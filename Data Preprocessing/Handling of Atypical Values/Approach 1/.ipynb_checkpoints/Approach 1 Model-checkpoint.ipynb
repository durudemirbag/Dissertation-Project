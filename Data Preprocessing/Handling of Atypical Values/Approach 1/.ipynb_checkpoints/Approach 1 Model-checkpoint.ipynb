{
 "cells": [
  {
   "cell_type": "markdown",
   "id": "dfeb2561-01eb-4cba-bf81-cd8dec6927aa",
   "metadata": {},
   "source": [
    "# TRAIN-TEST DATA"
   ]
  },
  {
   "cell_type": "code",
   "execution_count": 1,
   "id": "4a60efa8-612b-408b-917f-ecf72d642fdf",
   "metadata": {},
   "outputs": [],
   "source": [
    "import pandas as pd"
   ]
  },
  {
   "cell_type": "code",
   "execution_count": 2,
   "id": "65c599ba-4a08-4623-97ce-4d023d7ff4b5",
   "metadata": {},
   "outputs": [
    {
     "data": {
      "text/html": [
       "<div>\n",
       "<style scoped>\n",
       "    .dataframe tbody tr th:only-of-type {\n",
       "        vertical-align: middle;\n",
       "    }\n",
       "\n",
       "    .dataframe tbody tr th {\n",
       "        vertical-align: top;\n",
       "    }\n",
       "\n",
       "    .dataframe thead th {\n",
       "        text-align: right;\n",
       "    }\n",
       "</style>\n",
       "<table border=\"1\" class=\"dataframe\">\n",
       "  <thead>\n",
       "    <tr style=\"text-align: right;\">\n",
       "      <th></th>\n",
       "      <th>hypertension</th>\n",
       "      <th>heart_disease</th>\n",
       "      <th>diabetes</th>\n",
       "      <th>gender</th>\n",
       "      <th>smoking_history_No Info</th>\n",
       "      <th>smoking_history_current</th>\n",
       "      <th>smoking_history_not current</th>\n",
       "      <th>age</th>\n",
       "      <th>bmi</th>\n",
       "      <th>HbA1c_level</th>\n",
       "      <th>blood_glucose_level</th>\n",
       "    </tr>\n",
       "  </thead>\n",
       "  <tbody>\n",
       "    <tr>\n",
       "      <th>0</th>\n",
       "      <td>0</td>\n",
       "      <td>1</td>\n",
       "      <td>0</td>\n",
       "      <td>0</td>\n",
       "      <td>0.0</td>\n",
       "      <td>0.0</td>\n",
       "      <td>1.0</td>\n",
       "      <td>1.000000</td>\n",
       "      <td>-0.645658</td>\n",
       "      <td>0.127273</td>\n",
       "      <td>-0.454545</td>\n",
       "    </tr>\n",
       "    <tr>\n",
       "      <th>1</th>\n",
       "      <td>0</td>\n",
       "      <td>0</td>\n",
       "      <td>0</td>\n",
       "      <td>0</td>\n",
       "      <td>1.0</td>\n",
       "      <td>0.0</td>\n",
       "      <td>0.0</td>\n",
       "      <td>0.349349</td>\n",
       "      <td>-0.595938</td>\n",
       "      <td>0.127273</td>\n",
       "      <td>-1.000000</td>\n",
       "    </tr>\n",
       "    <tr>\n",
       "      <th>2</th>\n",
       "      <td>0</td>\n",
       "      <td>0</td>\n",
       "      <td>0</td>\n",
       "      <td>1</td>\n",
       "      <td>0.0</td>\n",
       "      <td>0.0</td>\n",
       "      <td>1.0</td>\n",
       "      <td>-0.301301</td>\n",
       "      <td>-0.595938</td>\n",
       "      <td>-0.200000</td>\n",
       "      <td>-0.290909</td>\n",
       "    </tr>\n",
       "    <tr>\n",
       "      <th>3</th>\n",
       "      <td>0</td>\n",
       "      <td>0</td>\n",
       "      <td>0</td>\n",
       "      <td>0</td>\n",
       "      <td>0.0</td>\n",
       "      <td>1.0</td>\n",
       "      <td>0.0</td>\n",
       "      <td>-0.101101</td>\n",
       "      <td>-0.686275</td>\n",
       "      <td>-0.454545</td>\n",
       "      <td>-0.318182</td>\n",
       "    </tr>\n",
       "    <tr>\n",
       "      <th>4</th>\n",
       "      <td>1</td>\n",
       "      <td>1</td>\n",
       "      <td>0</td>\n",
       "      <td>1</td>\n",
       "      <td>0.0</td>\n",
       "      <td>1.0</td>\n",
       "      <td>0.0</td>\n",
       "      <td>0.899900</td>\n",
       "      <td>-0.763539</td>\n",
       "      <td>-0.527273</td>\n",
       "      <td>-0.318182</td>\n",
       "    </tr>\n",
       "  </tbody>\n",
       "</table>\n",
       "</div>"
      ],
      "text/plain": [
       "   hypertension  heart_disease  diabetes  gender  smoking_history_No Info  \\\n",
       "0             0              1         0       0                      0.0   \n",
       "1             0              0         0       0                      1.0   \n",
       "2             0              0         0       1                      0.0   \n",
       "3             0              0         0       0                      0.0   \n",
       "4             1              1         0       1                      0.0   \n",
       "\n",
       "   smoking_history_current  smoking_history_not current       age       bmi  \\\n",
       "0                      0.0                          1.0  1.000000 -0.645658   \n",
       "1                      0.0                          0.0  0.349349 -0.595938   \n",
       "2                      0.0                          1.0 -0.301301 -0.595938   \n",
       "3                      1.0                          0.0 -0.101101 -0.686275   \n",
       "4                      1.0                          0.0  0.899900 -0.763539   \n",
       "\n",
       "   HbA1c_level  blood_glucose_level  \n",
       "0     0.127273            -0.454545  \n",
       "1     0.127273            -1.000000  \n",
       "2    -0.200000            -0.290909  \n",
       "3    -0.454545            -0.318182  \n",
       "4    -0.527273            -0.318182  "
      ]
     },
     "execution_count": 2,
     "metadata": {},
     "output_type": "execute_result"
    }
   ],
   "source": [
    "model_df = pd.read_csv(\"normal.csv\")\n",
    "model_df.head()"
   ]
  },
  {
   "cell_type": "code",
   "execution_count": 3,
   "id": "34653fe6-da48-4960-9d25-94a3079d456c",
   "metadata": {},
   "outputs": [
    {
     "data": {
      "text/html": [
       "<div>\n",
       "<style scoped>\n",
       "    .dataframe tbody tr th:only-of-type {\n",
       "        vertical-align: middle;\n",
       "    }\n",
       "\n",
       "    .dataframe tbody tr th {\n",
       "        vertical-align: top;\n",
       "    }\n",
       "\n",
       "    .dataframe thead th {\n",
       "        text-align: right;\n",
       "    }\n",
       "</style>\n",
       "<table border=\"1\" class=\"dataframe\">\n",
       "  <thead>\n",
       "    <tr style=\"text-align: right;\">\n",
       "      <th></th>\n",
       "      <th>count</th>\n",
       "      <th>mean</th>\n",
       "      <th>std</th>\n",
       "      <th>min</th>\n",
       "      <th>25%</th>\n",
       "      <th>50%</th>\n",
       "      <th>75%</th>\n",
       "      <th>max</th>\n",
       "    </tr>\n",
       "  </thead>\n",
       "  <tbody>\n",
       "    <tr>\n",
       "      <th>hypertension</th>\n",
       "      <td>99982.0</td>\n",
       "      <td>0.074863</td>\n",
       "      <td>0.263172</td>\n",
       "      <td>0.0</td>\n",
       "      <td>0.000000</td>\n",
       "      <td>0.000000</td>\n",
       "      <td>0.000000</td>\n",
       "      <td>1.0</td>\n",
       "    </tr>\n",
       "    <tr>\n",
       "      <th>heart_disease</th>\n",
       "      <td>99982.0</td>\n",
       "      <td>0.039427</td>\n",
       "      <td>0.194610</td>\n",
       "      <td>0.0</td>\n",
       "      <td>0.000000</td>\n",
       "      <td>0.000000</td>\n",
       "      <td>0.000000</td>\n",
       "      <td>1.0</td>\n",
       "    </tr>\n",
       "    <tr>\n",
       "      <th>diabetes</th>\n",
       "      <td>99982.0</td>\n",
       "      <td>0.085015</td>\n",
       "      <td>0.278906</td>\n",
       "      <td>0.0</td>\n",
       "      <td>0.000000</td>\n",
       "      <td>0.000000</td>\n",
       "      <td>0.000000</td>\n",
       "      <td>1.0</td>\n",
       "    </tr>\n",
       "    <tr>\n",
       "      <th>gender</th>\n",
       "      <td>99982.0</td>\n",
       "      <td>0.414375</td>\n",
       "      <td>0.492616</td>\n",
       "      <td>0.0</td>\n",
       "      <td>0.000000</td>\n",
       "      <td>0.000000</td>\n",
       "      <td>1.000000</td>\n",
       "      <td>1.0</td>\n",
       "    </tr>\n",
       "    <tr>\n",
       "      <th>smoking_history_No Info</th>\n",
       "      <td>99982.0</td>\n",
       "      <td>0.358164</td>\n",
       "      <td>0.479463</td>\n",
       "      <td>0.0</td>\n",
       "      <td>0.000000</td>\n",
       "      <td>0.000000</td>\n",
       "      <td>1.000000</td>\n",
       "      <td>1.0</td>\n",
       "    </tr>\n",
       "    <tr>\n",
       "      <th>smoking_history_current</th>\n",
       "      <td>99982.0</td>\n",
       "      <td>0.092877</td>\n",
       "      <td>0.290261</td>\n",
       "      <td>0.0</td>\n",
       "      <td>0.000000</td>\n",
       "      <td>0.000000</td>\n",
       "      <td>0.000000</td>\n",
       "      <td>1.0</td>\n",
       "    </tr>\n",
       "    <tr>\n",
       "      <th>smoking_history_not current</th>\n",
       "      <td>99982.0</td>\n",
       "      <td>0.548959</td>\n",
       "      <td>0.497600</td>\n",
       "      <td>0.0</td>\n",
       "      <td>0.000000</td>\n",
       "      <td>1.000000</td>\n",
       "      <td>1.000000</td>\n",
       "      <td>1.0</td>\n",
       "    </tr>\n",
       "    <tr>\n",
       "      <th>age</th>\n",
       "      <td>99982.0</td>\n",
       "      <td>0.046248</td>\n",
       "      <td>0.563494</td>\n",
       "      <td>-1.0</td>\n",
       "      <td>-0.401401</td>\n",
       "      <td>0.074074</td>\n",
       "      <td>0.499499</td>\n",
       "      <td>1.0</td>\n",
       "    </tr>\n",
       "    <tr>\n",
       "      <th>bmi</th>\n",
       "      <td>99982.0</td>\n",
       "      <td>-0.595921</td>\n",
       "      <td>0.154922</td>\n",
       "      <td>-1.0</td>\n",
       "      <td>-0.682073</td>\n",
       "      <td>-0.595938</td>\n",
       "      <td>-0.543184</td>\n",
       "      <td>1.0</td>\n",
       "    </tr>\n",
       "    <tr>\n",
       "      <th>HbA1c_level</th>\n",
       "      <td>99982.0</td>\n",
       "      <td>-0.262717</td>\n",
       "      <td>0.389333</td>\n",
       "      <td>-1.0</td>\n",
       "      <td>-0.527273</td>\n",
       "      <td>-0.163636</td>\n",
       "      <td>-0.018182</td>\n",
       "      <td>1.0</td>\n",
       "    </tr>\n",
       "    <tr>\n",
       "      <th>blood_glucose_level</th>\n",
       "      <td>99982.0</td>\n",
       "      <td>-0.472202</td>\n",
       "      <td>0.370086</td>\n",
       "      <td>-1.0</td>\n",
       "      <td>-0.818182</td>\n",
       "      <td>-0.454545</td>\n",
       "      <td>-0.281818</td>\n",
       "      <td>1.0</td>\n",
       "    </tr>\n",
       "  </tbody>\n",
       "</table>\n",
       "</div>"
      ],
      "text/plain": [
       "                               count      mean       std  min       25%  \\\n",
       "hypertension                 99982.0  0.074863  0.263172  0.0  0.000000   \n",
       "heart_disease                99982.0  0.039427  0.194610  0.0  0.000000   \n",
       "diabetes                     99982.0  0.085015  0.278906  0.0  0.000000   \n",
       "gender                       99982.0  0.414375  0.492616  0.0  0.000000   \n",
       "smoking_history_No Info      99982.0  0.358164  0.479463  0.0  0.000000   \n",
       "smoking_history_current      99982.0  0.092877  0.290261  0.0  0.000000   \n",
       "smoking_history_not current  99982.0  0.548959  0.497600  0.0  0.000000   \n",
       "age                          99982.0  0.046248  0.563494 -1.0 -0.401401   \n",
       "bmi                          99982.0 -0.595921  0.154922 -1.0 -0.682073   \n",
       "HbA1c_level                  99982.0 -0.262717  0.389333 -1.0 -0.527273   \n",
       "blood_glucose_level          99982.0 -0.472202  0.370086 -1.0 -0.818182   \n",
       "\n",
       "                                  50%       75%  max  \n",
       "hypertension                 0.000000  0.000000  1.0  \n",
       "heart_disease                0.000000  0.000000  1.0  \n",
       "diabetes                     0.000000  0.000000  1.0  \n",
       "gender                       0.000000  1.000000  1.0  \n",
       "smoking_history_No Info      0.000000  1.000000  1.0  \n",
       "smoking_history_current      0.000000  0.000000  1.0  \n",
       "smoking_history_not current  1.000000  1.000000  1.0  \n",
       "age                          0.074074  0.499499  1.0  \n",
       "bmi                         -0.595938 -0.543184  1.0  \n",
       "HbA1c_level                 -0.163636 -0.018182  1.0  \n",
       "blood_glucose_level         -0.454545 -0.281818  1.0  "
      ]
     },
     "execution_count": 3,
     "metadata": {},
     "output_type": "execute_result"
    }
   ],
   "source": [
    "model_df.describe().T"
   ]
  },
  {
   "cell_type": "code",
   "execution_count": 4,
   "id": "75149ef0-13fa-46ef-b206-e53e03827c55",
   "metadata": {},
   "outputs": [],
   "source": [
    "X = model_df.drop([\"diabetes\"] ,axis=1)\n",
    "y = model_df[\"diabetes\"]"
   ]
  },
  {
   "cell_type": "code",
   "execution_count": 5,
   "id": "3c3387bc-a15d-4658-b3e4-abd6eff9d59f",
   "metadata": {},
   "outputs": [],
   "source": [
    "from sklearn.model_selection import train_test_split"
   ]
  },
  {
   "cell_type": "code",
   "execution_count": 6,
   "id": "2038e224-c33d-4b2e-857c-e0c8d34ebe58",
   "metadata": {},
   "outputs": [
    {
     "data": {
      "text/plain": [
       "((89983, 10), (9999, 10))"
      ]
     },
     "execution_count": 6,
     "metadata": {},
     "output_type": "execute_result"
    }
   ],
   "source": [
    "X_train, X_test, y_train, y_test = train_test_split(\n",
    "    X, y, test_size=0.10, random_state=42, stratify=y\n",
    ")\n",
    "X_train.shape,X_test.shape"
   ]
  },
  {
   "cell_type": "code",
   "execution_count": 7,
   "id": "752a280e-6216-4a53-885a-842adaa07dae",
   "metadata": {},
   "outputs": [
    {
     "data": {
      "text/plain": [
       "(array([[1., 0.],\n",
       "        [1., 0.],\n",
       "        [1., 0.],\n",
       "        ...,\n",
       "        [1., 0.],\n",
       "        [1., 0.],\n",
       "        [1., 0.]]),\n",
       " array([[1., 0.],\n",
       "        [1., 0.],\n",
       "        [1., 0.],\n",
       "        ...,\n",
       "        [1., 0.],\n",
       "        [1., 0.],\n",
       "        [1., 0.]]))"
      ]
     },
     "execution_count": 7,
     "metadata": {},
     "output_type": "execute_result"
    }
   ],
   "source": [
    "from sklearn.preprocessing import OneHotEncoder\n",
    "\n",
    "encoder = OneHotEncoder(sparse_output=False, drop=None)\n",
    "y_train_encoded = encoder.fit_transform(y_train.to_frame())\n",
    "y_test_encoded = encoder.transform(y_test.to_frame())\n",
    "y_train_encoded, y_test_encoded"
   ]
  },
  {
   "cell_type": "code",
   "execution_count": 8,
   "id": "8d159464-e992-44b8-aacc-e40a0f873573",
   "metadata": {},
   "outputs": [
    {
     "data": {
      "text/plain": [
       "(89983, 9999, 89983, 9999)"
      ]
     },
     "execution_count": 8,
     "metadata": {},
     "output_type": "execute_result"
    }
   ],
   "source": [
    "len(y_train_encoded), len(y_test_encoded),len(X_train), len(X_test)"
   ]
  },
  {
   "cell_type": "code",
   "execution_count": 9,
   "id": "ace55a39-4470-431a-97ef-cbd3bc3f92a4",
   "metadata": {},
   "outputs": [],
   "source": [
    "from keras.models import Sequential\n",
    "from keras.layers import Dense\n",
    "from keras.optimizers import Adam\n",
    "from keras.layers import  Dropout\n",
    "from keras.callbacks import EarlyStopping"
   ]
  },
  {
   "cell_type": "code",
   "execution_count": 10,
   "id": "10a315fd-4715-4de9-93a2-018df430214f",
   "metadata": {},
   "outputs": [
    {
     "name": "stdout",
     "output_type": "stream",
     "text": [
      "Epoch 1/150\n"
     ]
    },
    {
     "name": "stderr",
     "output_type": "stream",
     "text": [
      "/Users/durudemirbag/miniforge3/envs/tf/lib/python3.9/site-packages/keras/src/layers/core/dense.py:93: UserWarning: Do not pass an `input_shape`/`input_dim` argument to a layer. When using Sequential models, prefer using an `Input(shape)` object as the first layer in the model instead.\n",
      "  super().__init__(activity_regularizer=activity_regularizer, **kwargs)\n",
      "2025-08-17 13:31:37.404411: I metal_plugin/src/device/metal_device.cc:1154] Metal device set to: Apple M2\n",
      "2025-08-17 13:31:37.404444: I metal_plugin/src/device/metal_device.cc:296] systemMemory: 8.00 GB\n",
      "2025-08-17 13:31:37.404450: I metal_plugin/src/device/metal_device.cc:313] maxCacheSize: 2.67 GB\n",
      "2025-08-17 13:31:37.404468: I tensorflow/core/common_runtime/pluggable_device/pluggable_device_factory.cc:305] Could not identify NUMA node of platform GPU ID 0, defaulting to 0. Your kernel may not have been built with NUMA support.\n",
      "2025-08-17 13:31:37.404478: I tensorflow/core/common_runtime/pluggable_device/pluggable_device_factory.cc:271] Created TensorFlow device (/job:localhost/replica:0/task:0/device:GPU:0 with 0 MB memory) -> physical PluggableDevice (device: 0, name: METAL, pci bus id: <undefined>)\n",
      "2025-08-17 13:31:37.831506: I tensorflow/core/grappler/optimizers/custom_graph_optimizer_registry.cc:117] Plugin optimizer for device_type GPU is enabled.\n"
     ]
    },
    {
     "name": "stdout",
     "output_type": "stream",
     "text": [
      "\u001b[1m1406/1406\u001b[0m \u001b[32m━━━━━━━━━━━━━━━━━━━━\u001b[0m\u001b[37m\u001b[0m \u001b[1m23s\u001b[0m 16ms/step - accuracy: 0.9535 - loss: 0.1320 - recall: 0.9535 - val_accuracy: 0.9619 - val_loss: 0.1111 - val_recall: 0.9619\n",
      "Epoch 2/150\n",
      "\u001b[1m1406/1406\u001b[0m \u001b[32m━━━━━━━━━━━━━━━━━━━━\u001b[0m\u001b[37m\u001b[0m \u001b[1m22s\u001b[0m 16ms/step - accuracy: 0.9618 - loss: 0.1091 - recall: 0.9618 - val_accuracy: 0.9660 - val_loss: 0.1026 - val_recall: 0.9660\n",
      "Epoch 3/150\n",
      "\u001b[1m1406/1406\u001b[0m \u001b[32m━━━━━━━━━━━━━━━━━━━━\u001b[0m\u001b[37m\u001b[0m \u001b[1m23s\u001b[0m 16ms/step - accuracy: 0.9676 - loss: 0.0982 - recall: 0.9676 - val_accuracy: 0.9722 - val_loss: 0.0878 - val_recall: 0.9722\n",
      "Epoch 4/150\n",
      "\u001b[1m1406/1406\u001b[0m \u001b[32m━━━━━━━━━━━━━━━━━━━━\u001b[0m\u001b[37m\u001b[0m \u001b[1m21s\u001b[0m 15ms/step - accuracy: 0.9713 - loss: 0.0855 - recall: 0.9713 - val_accuracy: 0.9705 - val_loss: 0.0858 - val_recall: 0.9705\n",
      "Epoch 5/150\n",
      "\u001b[1m1406/1406\u001b[0m \u001b[32m━━━━━━━━━━━━━━━━━━━━\u001b[0m\u001b[37m\u001b[0m \u001b[1m21s\u001b[0m 15ms/step - accuracy: 0.9711 - loss: 0.0853 - recall: 0.9711 - val_accuracy: 0.9726 - val_loss: 0.0827 - val_recall: 0.9726\n",
      "Epoch 6/150\n",
      "\u001b[1m1406/1406\u001b[0m \u001b[32m━━━━━━━━━━━━━━━━━━━━\u001b[0m\u001b[37m\u001b[0m \u001b[1m21s\u001b[0m 15ms/step - accuracy: 0.9707 - loss: 0.0851 - recall: 0.9707 - val_accuracy: 0.9728 - val_loss: 0.0817 - val_recall: 0.9728\n",
      "Epoch 7/150\n",
      "\u001b[1m1406/1406\u001b[0m \u001b[32m━━━━━━━━━━━━━━━━━━━━\u001b[0m\u001b[37m\u001b[0m \u001b[1m21s\u001b[0m 15ms/step - accuracy: 0.9718 - loss: 0.0821 - recall: 0.9718 - val_accuracy: 0.9726 - val_loss: 0.0845 - val_recall: 0.9726\n",
      "Epoch 8/150\n",
      "\u001b[1m1406/1406\u001b[0m \u001b[32m━━━━━━━━━━━━━━━━━━━━\u001b[0m\u001b[37m\u001b[0m \u001b[1m21s\u001b[0m 15ms/step - accuracy: 0.9714 - loss: 0.0833 - recall: 0.9714 - val_accuracy: 0.9726 - val_loss: 0.0823 - val_recall: 0.9726\n",
      "Epoch 9/150\n",
      "\u001b[1m1406/1406\u001b[0m \u001b[32m━━━━━━━━━━━━━━━━━━━━\u001b[0m\u001b[37m\u001b[0m \u001b[1m21s\u001b[0m 15ms/step - accuracy: 0.9712 - loss: 0.0825 - recall: 0.9712 - val_accuracy: 0.9728 - val_loss: 0.0815 - val_recall: 0.9728\n",
      "Epoch 10/150\n",
      "\u001b[1m1406/1406\u001b[0m \u001b[32m━━━━━━━━━━━━━━━━━━━━\u001b[0m\u001b[37m\u001b[0m \u001b[1m21s\u001b[0m 15ms/step - accuracy: 0.9722 - loss: 0.0813 - recall: 0.9722 - val_accuracy: 0.9709 - val_loss: 0.0821 - val_recall: 0.9709\n",
      "Epoch 11/150\n",
      "\u001b[1m1406/1406\u001b[0m \u001b[32m━━━━━━━━━━━━━━━━━━━━\u001b[0m\u001b[37m\u001b[0m \u001b[1m21s\u001b[0m 15ms/step - accuracy: 0.9713 - loss: 0.0843 - recall: 0.9713 - val_accuracy: 0.9727 - val_loss: 0.0821 - val_recall: 0.9727\n",
      "Epoch 12/150\n",
      "\u001b[1m1406/1406\u001b[0m \u001b[32m━━━━━━━━━━━━━━━━━━━━\u001b[0m\u001b[37m\u001b[0m \u001b[1m22s\u001b[0m 16ms/step - accuracy: 0.9722 - loss: 0.0806 - recall: 0.9722 - val_accuracy: 0.9728 - val_loss: 0.0811 - val_recall: 0.9728\n",
      "Epoch 13/150\n",
      "\u001b[1m1406/1406\u001b[0m \u001b[32m━━━━━━━━━━━━━━━━━━━━\u001b[0m\u001b[37m\u001b[0m \u001b[1m72s\u001b[0m 51ms/step - accuracy: 0.9710 - loss: 0.0835 - recall: 0.9710 - val_accuracy: 0.9728 - val_loss: 0.0837 - val_recall: 0.9728\n",
      "Epoch 14/150\n",
      "\u001b[1m1406/1406\u001b[0m \u001b[32m━━━━━━━━━━━━━━━━━━━━\u001b[0m\u001b[37m\u001b[0m \u001b[1m492s\u001b[0m 350ms/step - accuracy: 0.9722 - loss: 0.0812 - recall: 0.9722 - val_accuracy: 0.9728 - val_loss: 0.0810 - val_recall: 0.9728\n",
      "Epoch 15/150\n",
      "\u001b[1m1406/1406\u001b[0m \u001b[32m━━━━━━━━━━━━━━━━━━━━\u001b[0m\u001b[37m\u001b[0m \u001b[1m22s\u001b[0m 16ms/step - accuracy: 0.9714 - loss: 0.0822 - recall: 0.9714 - val_accuracy: 0.9728 - val_loss: 0.0810 - val_recall: 0.9728\n",
      "Epoch 16/150\n",
      "\u001b[1m1406/1406\u001b[0m \u001b[32m━━━━━━━━━━━━━━━━━━━━\u001b[0m\u001b[37m\u001b[0m \u001b[1m22s\u001b[0m 16ms/step - accuracy: 0.9717 - loss: 0.0818 - recall: 0.9717 - val_accuracy: 0.9729 - val_loss: 0.0815 - val_recall: 0.9729\n",
      "Epoch 17/150\n",
      "\u001b[1m1406/1406\u001b[0m \u001b[32m━━━━━━━━━━━━━━━━━━━━\u001b[0m\u001b[37m\u001b[0m \u001b[1m23s\u001b[0m 16ms/step - accuracy: 0.9719 - loss: 0.0829 - recall: 0.9719 - val_accuracy: 0.9707 - val_loss: 0.0831 - val_recall: 0.9707\n",
      "Epoch 18/150\n",
      "\u001b[1m1406/1406\u001b[0m \u001b[32m━━━━━━━━━━━━━━━━━━━━\u001b[0m\u001b[37m\u001b[0m \u001b[1m22s\u001b[0m 16ms/step - accuracy: 0.9712 - loss: 0.0826 - recall: 0.9712 - val_accuracy: 0.9690 - val_loss: 0.0885 - val_recall: 0.9690\n",
      "Epoch 19/150\n",
      "\u001b[1m1406/1406\u001b[0m \u001b[32m━━━━━━━━━━━━━━━━━━━━\u001b[0m\u001b[37m\u001b[0m \u001b[1m22s\u001b[0m 16ms/step - accuracy: 0.9713 - loss: 0.0824 - recall: 0.9713 - val_accuracy: 0.9728 - val_loss: 0.0839 - val_recall: 0.9728\n",
      "Epoch 20/150\n",
      "\u001b[1m1406/1406\u001b[0m \u001b[32m━━━━━━━━━━━━━━━━━━━━\u001b[0m\u001b[37m\u001b[0m \u001b[1m22s\u001b[0m 16ms/step - accuracy: 0.9725 - loss: 0.0798 - recall: 0.9725 - val_accuracy: 0.9725 - val_loss: 0.0822 - val_recall: 0.9725\n",
      "Epoch 21/150\n",
      "\u001b[1m1406/1406\u001b[0m \u001b[32m━━━━━━━━━━━━━━━━━━━━\u001b[0m\u001b[37m\u001b[0m \u001b[1m23s\u001b[0m 16ms/step - accuracy: 0.9722 - loss: 0.0798 - recall: 0.9722 - val_accuracy: 0.9725 - val_loss: 0.0821 - val_recall: 0.9725\n",
      "Epoch 22/150\n",
      "\u001b[1m1406/1406\u001b[0m \u001b[32m━━━━━━━━━━━━━━━━━━━━\u001b[0m\u001b[37m\u001b[0m \u001b[1m23s\u001b[0m 16ms/step - accuracy: 0.9714 - loss: 0.0835 - recall: 0.9714 - val_accuracy: 0.9720 - val_loss: 0.0821 - val_recall: 0.9720\n",
      "Epoch 23/150\n",
      "\u001b[1m1406/1406\u001b[0m \u001b[32m━━━━━━━━━━━━━━━━━━━━\u001b[0m\u001b[37m\u001b[0m \u001b[1m23s\u001b[0m 16ms/step - accuracy: 0.9720 - loss: 0.0813 - recall: 0.9720 - val_accuracy: 0.9725 - val_loss: 0.0821 - val_recall: 0.9725\n",
      "Epoch 24/150\n",
      "\u001b[1m1406/1406\u001b[0m \u001b[32m━━━━━━━━━━━━━━━━━━━━\u001b[0m\u001b[37m\u001b[0m \u001b[1m22s\u001b[0m 16ms/step - accuracy: 0.9728 - loss: 0.0790 - recall: 0.9728 - val_accuracy: 0.9719 - val_loss: 0.0823 - val_recall: 0.9719\n",
      "Epoch 25/150\n",
      "\u001b[1m1406/1406\u001b[0m \u001b[32m━━━━━━━━━━━━━━━━━━━━\u001b[0m\u001b[37m\u001b[0m \u001b[1m23s\u001b[0m 16ms/step - accuracy: 0.9726 - loss: 0.0801 - recall: 0.9726 - val_accuracy: 0.9719 - val_loss: 0.0816 - val_recall: 0.9719\n",
      "Epoch 26/150\n",
      "\u001b[1m1406/1406\u001b[0m \u001b[32m━━━━━━━━━━━━━━━━━━━━\u001b[0m\u001b[37m\u001b[0m \u001b[1m23s\u001b[0m 16ms/step - accuracy: 0.9715 - loss: 0.0816 - recall: 0.9715 - val_accuracy: 0.9722 - val_loss: 0.0818 - val_recall: 0.9722\n",
      "Epoch 27/150\n",
      "\u001b[1m1406/1406\u001b[0m \u001b[32m━━━━━━━━━━━━━━━━━━━━\u001b[0m\u001b[37m\u001b[0m \u001b[1m23s\u001b[0m 16ms/step - accuracy: 0.9722 - loss: 0.0814 - recall: 0.9722 - val_accuracy: 0.9723 - val_loss: 0.0819 - val_recall: 0.9723\n",
      "Epoch 28/150\n",
      "\u001b[1m1406/1406\u001b[0m \u001b[32m━━━━━━━━━━━━━━━━━━━━\u001b[0m\u001b[37m\u001b[0m \u001b[1m23s\u001b[0m 16ms/step - accuracy: 0.9732 - loss: 0.0790 - recall: 0.9732 - val_accuracy: 0.9725 - val_loss: 0.0822 - val_recall: 0.9725\n",
      "Epoch 29/150\n",
      "\u001b[1m1406/1406\u001b[0m \u001b[32m━━━━━━━━━━━━━━━━━━━━\u001b[0m\u001b[37m\u001b[0m \u001b[1m23s\u001b[0m 17ms/step - accuracy: 0.9728 - loss: 0.0787 - recall: 0.9728 - val_accuracy: 0.9726 - val_loss: 0.0818 - val_recall: 0.9726\n",
      "Epoch 30/150\n",
      "\u001b[1m1406/1406\u001b[0m \u001b[32m━━━━━━━━━━━━━━━━━━━━\u001b[0m\u001b[37m\u001b[0m \u001b[1m26s\u001b[0m 18ms/step - accuracy: 0.9721 - loss: 0.0805 - recall: 0.9721 - val_accuracy: 0.9721 - val_loss: 0.0812 - val_recall: 0.9721\n",
      "Epoch 31/150\n",
      "\u001b[1m1406/1406\u001b[0m \u001b[32m━━━━━━━━━━━━━━━━━━━━\u001b[0m\u001b[37m\u001b[0m \u001b[1m26s\u001b[0m 18ms/step - accuracy: 0.9715 - loss: 0.0804 - recall: 0.9715 - val_accuracy: 0.9724 - val_loss: 0.0819 - val_recall: 0.9724\n",
      "Epoch 32/150\n",
      "\u001b[1m1406/1406\u001b[0m \u001b[32m━━━━━━━━━━━━━━━━━━━━\u001b[0m\u001b[37m\u001b[0m \u001b[1m19s\u001b[0m 13ms/step - accuracy: 0.9720 - loss: 0.0806 - recall: 0.9720 - val_accuracy: 0.9718 - val_loss: 0.0817 - val_recall: 0.9718\n",
      "Epoch 33/150\n",
      "\u001b[1m1406/1406\u001b[0m \u001b[32m━━━━━━━━━━━━━━━━━━━━\u001b[0m\u001b[37m\u001b[0m \u001b[1m19s\u001b[0m 13ms/step - accuracy: 0.9707 - loss: 0.0825 - recall: 0.9707 - val_accuracy: 0.9723 - val_loss: 0.0813 - val_recall: 0.9723\n",
      "Epoch 34/150\n",
      "\u001b[1m1406/1406\u001b[0m \u001b[32m━━━━━━━━━━━━━━━━━━━━\u001b[0m\u001b[37m\u001b[0m \u001b[1m18s\u001b[0m 13ms/step - accuracy: 0.9723 - loss: 0.0806 - recall: 0.9723 - val_accuracy: 0.9716 - val_loss: 0.0823 - val_recall: 0.9716\n"
     ]
    }
   ],
   "source": [
    "undersample_model1 = Sequential()\n",
    "undersample_model1.add(Dense(128, input_shape=(X_train.shape[1],), activation='tanh'))\n",
    "undersample_model1.add(Dense(64, activation='tanh'))\n",
    "undersample_model1.add(Dense(32, activation='tanh'))\n",
    "undersample_model1.add(Dense(2, activation='softmax'))\n",
    "\n",
    "\n",
    "undersample_model1.compile(loss='categorical_crossentropy', optimizer=\"Adam\", metrics=['accuracy',\"recall\"])\n",
    "\n",
    "\n",
    "h = undersample_model1.fit(\n",
    "    X_train, y_train_encoded,\n",
    "    epochs=150,\n",
    "    batch_size=64,\n",
    "    callbacks = EarlyStopping(\n",
    "    monitor='val_loss',   \n",
    "    patience=20,            \n",
    "    restore_best_weights=True ),\n",
    "    validation_data=(X_test, y_test_encoded)\n",
    ")\n"
   ]
  },
  {
   "cell_type": "code",
   "execution_count": 11,
   "id": "08bf591c-69d8-44ca-b97c-13b9b3f88be8",
   "metadata": {},
   "outputs": [],
   "source": [
    "import matplotlib.pyplot as plt\n",
    "def LossHistory (history):\n",
    "    # Accuracy \n",
    "    plt.figure(figsize=(8,4))\n",
    "    plt.plot(history.history['accuracy'], label='Train Accuracy')\n",
    "    plt.plot(history.history['val_accuracy'], label='Validation Accuracy')\n",
    "    plt.xlabel('Epoch')\n",
    "    plt.ylabel('Accuracy')\n",
    "    plt.title('Accuracy per Epoch')\n",
    "    plt.legend()\n",
    "    plt.grid(True)\n",
    "    plt.show()\n",
    "\n",
    "    # Loss \n",
    "    plt.figure(figsize=(8,4))\n",
    "    plt.plot(history.history['loss'], label='Train Loss')\n",
    "    plt.plot(history.history['val_loss'], label='Validation Loss')\n",
    "    plt.xlabel('Epoch')\n",
    "    plt.ylabel('Loss')\n",
    "    plt.title('Loss per Epoch')\n",
    "    plt.legend()\n",
    "    plt.grid(True)\n",
    "    plt.show()"
   ]
  },
  {
   "cell_type": "code",
   "execution_count": 12,
   "id": "ba749605-597c-416f-8b12-5966f27fdf02",
   "metadata": {},
   "outputs": [
    {
     "data": {
      "image/png": "[encoded data removed]",
      "text/plain": [
       "<Figure size 800x400 with 1 Axes>"
      ]
     },
     "metadata": {},
     "output_type": "display_data"
    },
    {
     "data": {
      "image/png": "[encoded data removed]",
      "text/plain": [
       "<Figure size 800x400 with 1 Axes>"
      ]
     },
     "metadata": {},
     "output_type": "display_data"
    }
   ],
   "source": [
    "LossHistory(h)"
   ]
  },
  {
   "cell_type": "code",
   "execution_count": 13,
   "id": "a34259fa-b6b0-4f87-974b-abb799514399",
   "metadata": {},
   "outputs": [],
   "source": [
    "from sklearn.metrics import confusion_matrix, classification_report, accuracy_score, precision_recall_curve, roc_auc_score, roc_curve\n",
    "import numpy as np"
   ]
  },
  {
   "cell_type": "code",
   "execution_count": 14,
   "id": "5e86c504-330c-4800-a722-8c45d0e25085",
   "metadata": {},
   "outputs": [
    {
     "name": "stdout",
     "output_type": "stream",
     "text": [
      "\u001b[1m2812/2812\u001b[0m \u001b[32m━━━━━━━━━━━━━━━━━━━━\u001b[0m\u001b[37m\u001b[0m \u001b[1m3s\u001b[0m 1ms/step\n",
      "              precision    recall  f1-score   support\n",
      "\n",
      "           0       0.97      1.00      0.98     82333\n",
      "           1       1.00      0.67      0.80      7650\n",
      "\n",
      "   micro avg       0.97      0.97      0.97     89983\n",
      "   macro avg       0.98      0.83      0.89     89983\n",
      "weighted avg       0.97      0.97      0.97     89983\n",
      " samples avg       0.97      0.97      0.97     89983\n",
      "\n"
     ]
    }
   ],
   "source": [
    "y_pred_prob_undersample1 = undersample_model1.predict(X_train)\n",
    "y_pred_undersample1 = (y_pred_prob_undersample1 > 0.5).astype(int)\n",
    "\n",
    "print(classification_report(y_train_encoded, y_pred_undersample1))"
   ]
  },
  {
   "cell_type": "code",
   "execution_count": 15,
   "id": "6d4cde91-c44d-4e81-be03-eeff16da2f4d",
   "metadata": {},
   "outputs": [
    {
     "name": "stdout",
     "output_type": "stream",
     "text": [
      "\u001b[1m313/313\u001b[0m \u001b[32m━━━━━━━━━━━━━━━━━━━━\u001b[0m\u001b[37m\u001b[0m \u001b[1m0s\u001b[0m 1ms/step\n",
      "              precision    recall  f1-score   support\n",
      "\n",
      "           0       0.97      1.00      0.99      9149\n",
      "           1       1.00      0.68      0.81       850\n",
      "\n",
      "   micro avg       0.97      0.97      0.97      9999\n",
      "   macro avg       0.99      0.84      0.90      9999\n",
      "weighted avg       0.97      0.97      0.97      9999\n",
      " samples avg       0.97      0.97      0.97      9999\n",
      "\n"
     ]
    }
   ],
   "source": [
    "y_pred_prob_undersample2 = undersample_model1.predict(X_test)\n",
    "y_pred_undersample2 = (y_pred_prob_undersample2 > 0.5).astype(int)\n",
    "\n",
    "print(classification_report(y_test_encoded, y_pred_undersample2))"
   ]
  },
  {
   "cell_type": "code",
   "execution_count": 16,
   "id": "0dc404b3-a252-42f5-a047-2fc9c0ca96ed",
   "metadata": {},
   "outputs": [
    {
     "data": {
      "text/plain": [
       "0.9727972797279728"
      ]
     },
     "execution_count": 16,
     "metadata": {},
     "output_type": "execute_result"
    }
   ],
   "source": [
    "from sklearn.metrics import accuracy_score\n",
    "accuracy_score(y_test_encoded, y_pred_undersample2)\n"
   ]
  },
  {
   "cell_type": "code",
   "execution_count": 29,
   "id": "30a4d5a2-b198-4dfe-bc89-7335989312ae",
   "metadata": {},
   "outputs": [
    {
     "name": "stdout",
     "output_type": "stream",
     "text": [
      "\n",
      "Feature Importance:\n",
      "                       feature  importance\n",
      "8                  HbA1c_level    0.060706\n",
      "9          blood_glucose_level    0.043704\n",
      "5  smoking_history_not current    0.009701\n",
      "3      smoking_history_No Info    0.008601\n",
      "4      smoking_history_current    0.003900\n",
      "0                 hypertension    0.000100\n",
      "6                          age    0.000100\n",
      "7                          bmi    0.000100\n",
      "1                heart_disease    0.000000\n",
      "2                       gender    0.000000\n"
     ]
    },
    {
     "data": {
      "image/png": "[encoded data removed]",
      "text/plain": [
       "<Figure size 1200x600 with 1 Axes>"
      ]
     },
     "metadata": {},
     "output_type": "display_data"
    }
   ],
   "source": [
    "import numpy as np\n",
    "from sklearn.metrics import accuracy_score\n",
    "import matplotlib.pyplot as plt\n",
    "import pandas as pd\n",
    "\n",
    "\n",
    "def quick_feature_importance(model, X_test, y_test):\n",
    "    if isinstance(X_test, pd.DataFrame):\n",
    "        X_array = X_test.values\n",
    "    else:\n",
    "        X_array = np.array(X_test)\n",
    "    \n",
    "    if len(y_test.shape) > 1 and y_test.shape[1] > 1:\n",
    "        y_true = y_test.argmax(axis=1)\n",
    "    else:\n",
    "        y_true = np.array(y_test).ravel()\n",
    "    \n",
    "    baseline_pred = model.predict(X_array, verbose=0)\n",
    "    if baseline_pred.shape[1] > 1:\n",
    "        baseline_pred = baseline_pred.argmax(axis=1)\n",
    "    else:\n",
    "        baseline_pred = (baseline_pred > 0.5).astype(int).ravel()\n",
    "    \n",
    "    baseline = accuracy_score(y_true, baseline_pred)\n",
    " \n",
    "    \n",
    "    importances = []\n",
    "    for i in range(X_array.shape[1]):\n",
    "        X_shuffled = X_array.copy()\n",
    "        np.random.shuffle(X_shuffled[:, i])\n",
    "        \n",
    "        new_pred = model.predict(X_shuffled, verbose=0)\n",
    "        if new_pred.shape[1] > 1:\n",
    "            new_pred = new_pred.argmax(axis=1)\n",
    "        else:\n",
    "            new_pred = (new_pred > 0.5).astype(int).ravel()\n",
    "            \n",
    "        new_score = accuracy_score(y_true, new_pred)\n",
    "        importances.append(baseline - new_score)\n",
    "    \n",
    "    return np.array(importances)\n",
    "\n",
    "\n",
    "importances = quick_feature_importance(undersample_model1, X_test, y_test)\n",
    "\n",
    "\n",
    "feature_names = ['hypertension', 'heart_disease', 'gender', 'smoking_history_No Info',\n",
    "                'smoking_history_current', 'smoking_history_not current', \n",
    "                'age', 'bmi', 'HbA1c_level', 'blood_glucose_level']\n",
    "\n",
    "\n",
    "results = pd.DataFrame({\n",
    "    'feature': feature_names,\n",
    "    'importance': importances\n",
    "}).sort_values('importance', ascending=False)\n",
    "\n",
    "print(\"\\nFeature Importance:\")\n",
    "print(results)\n",
    "\n",
    "\n",
    "plt.figure(figsize=(12, 6))\n",
    "plt.barh(results['feature'], results['importance'])\n",
    "plt.xlabel('Importance Score')\n",
    "plt.title('Feature Importance - Diabetes Prediction')\n",
    "plt.gca().invert_yaxis()\n",
    "plt.tight_layout()\n",
    "plt.show()"
   ]
  }
 ],
 "metadata": {
  "kernelspec": {
   "display_name": "Python 3 (ipykernel)",
   "language": "python",
   "name": "python3"
  },
  "language_info": {
   "codemirror_mode": {
    "name": "ipython",
    "version": 3
   },
   "file_extension": ".py",
   "mimetype": "text/x-python",
   "name": "python",
   "nbconvert_exporter": "python",
   "pygments_lexer": "ipython3",
   "version": "3.9.23"
  }
 },
 "nbformat": 4,
 "nbformat_minor": 5
}
