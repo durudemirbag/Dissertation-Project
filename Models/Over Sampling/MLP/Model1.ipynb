{
 "cells": [
  {
   "cell_type": "markdown",
   "id": "dfeb2561-01eb-4cba-bf81-cd8dec6927aa",
   "metadata": {},
   "source": [
    "# Model 1"
   ]
  },
  {
   "cell_type": "code",
   "execution_count": 1,
   "id": "4a60efa8-612b-408b-917f-ecf72d642fdf",
   "metadata": {},
   "outputs": [],
   "source": [
    "import pandas as pd\n",
    "from sklearn.model_selection import train_test_split\n",
    "from imblearn.over_sampling import SMOTE\n",
    "from sklearn.preprocessing import OneHotEncoder\n",
    "from keras.models import Sequential\n",
    "from keras.layers import Dense\n",
    "from keras.optimizers import Adam\n",
    "from keras.callbacks import EarlyStopping\n",
    "import matplotlib.pyplot as plt\n",
    "from sklearn.metrics import confusion_matrix, classification_report, accuracy_score, precision_recall_curve, average_precision_score, roc_auc_score, roc_curve\n",
    "import numpy as np"
   ]
  },
  {
   "cell_type": "code",
   "execution_count": 2,
   "id": "65c599ba-4a08-4623-97ce-4d023d7ff4b5",
   "metadata": {},
   "outputs": [
    {
     "data": {
      "text/html": [
       "<div>\n",
       "<style scoped>\n",
       "    .dataframe tbody tr th:only-of-type {\n",
       "        vertical-align: middle;\n",
       "    }\n",
       "\n",
       "    .dataframe tbody tr th {\n",
       "        vertical-align: top;\n",
       "    }\n",
       "\n",
       "    .dataframe thead th {\n",
       "        text-align: right;\n",
       "    }\n",
       "</style>\n",
       "<table border=\"1\" class=\"dataframe\">\n",
       "  <thead>\n",
       "    <tr style=\"text-align: right;\">\n",
       "      <th></th>\n",
       "      <th>hypertension</th>\n",
       "      <th>heart_disease</th>\n",
       "      <th>diabetes</th>\n",
       "      <th>problematic</th>\n",
       "      <th>gender</th>\n",
       "      <th>smoking_history_No Info</th>\n",
       "      <th>smoking_history_current</th>\n",
       "      <th>smoking_history_not current</th>\n",
       "      <th>age</th>\n",
       "      <th>bmi</th>\n",
       "      <th>HbA1c_level</th>\n",
       "      <th>blood_glucose_level</th>\n",
       "    </tr>\n",
       "  </thead>\n",
       "  <tbody>\n",
       "    <tr>\n",
       "      <th>0</th>\n",
       "      <td>0</td>\n",
       "      <td>1</td>\n",
       "      <td>0</td>\n",
       "      <td>0</td>\n",
       "      <td>0</td>\n",
       "      <td>0.0</td>\n",
       "      <td>0.0</td>\n",
       "      <td>1.0</td>\n",
       "      <td>1.000000</td>\n",
       "      <td>-0.645658</td>\n",
       "      <td>0.127273</td>\n",
       "      <td>-0.454545</td>\n",
       "    </tr>\n",
       "    <tr>\n",
       "      <th>1</th>\n",
       "      <td>0</td>\n",
       "      <td>0</td>\n",
       "      <td>0</td>\n",
       "      <td>0</td>\n",
       "      <td>0</td>\n",
       "      <td>1.0</td>\n",
       "      <td>0.0</td>\n",
       "      <td>0.0</td>\n",
       "      <td>0.349349</td>\n",
       "      <td>-0.595938</td>\n",
       "      <td>0.127273</td>\n",
       "      <td>-1.000000</td>\n",
       "    </tr>\n",
       "    <tr>\n",
       "      <th>2</th>\n",
       "      <td>0</td>\n",
       "      <td>0</td>\n",
       "      <td>0</td>\n",
       "      <td>0</td>\n",
       "      <td>1</td>\n",
       "      <td>0.0</td>\n",
       "      <td>0.0</td>\n",
       "      <td>1.0</td>\n",
       "      <td>-0.301301</td>\n",
       "      <td>-0.595938</td>\n",
       "      <td>-0.200000</td>\n",
       "      <td>-0.290909</td>\n",
       "    </tr>\n",
       "    <tr>\n",
       "      <th>3</th>\n",
       "      <td>0</td>\n",
       "      <td>0</td>\n",
       "      <td>0</td>\n",
       "      <td>0</td>\n",
       "      <td>0</td>\n",
       "      <td>0.0</td>\n",
       "      <td>1.0</td>\n",
       "      <td>0.0</td>\n",
       "      <td>-0.101101</td>\n",
       "      <td>-0.686275</td>\n",
       "      <td>-0.454545</td>\n",
       "      <td>-0.318182</td>\n",
       "    </tr>\n",
       "    <tr>\n",
       "      <th>4</th>\n",
       "      <td>1</td>\n",
       "      <td>1</td>\n",
       "      <td>0</td>\n",
       "      <td>0</td>\n",
       "      <td>1</td>\n",
       "      <td>0.0</td>\n",
       "      <td>1.0</td>\n",
       "      <td>0.0</td>\n",
       "      <td>0.899900</td>\n",
       "      <td>-0.763539</td>\n",
       "      <td>-0.527273</td>\n",
       "      <td>-0.318182</td>\n",
       "    </tr>\n",
       "  </tbody>\n",
       "</table>\n",
       "</div>"
      ],
      "text/plain": [
       "   hypertension  heart_disease  diabetes  problematic  gender  \\\n",
       "0             0              1         0            0       0   \n",
       "1             0              0         0            0       0   \n",
       "2             0              0         0            0       1   \n",
       "3             0              0         0            0       0   \n",
       "4             1              1         0            0       1   \n",
       "\n",
       "   smoking_history_No Info  smoking_history_current  \\\n",
       "0                      0.0                      0.0   \n",
       "1                      1.0                      0.0   \n",
       "2                      0.0                      0.0   \n",
       "3                      0.0                      1.0   \n",
       "4                      0.0                      1.0   \n",
       "\n",
       "   smoking_history_not current       age       bmi  HbA1c_level  \\\n",
       "0                          1.0  1.000000 -0.645658     0.127273   \n",
       "1                          0.0  0.349349 -0.595938     0.127273   \n",
       "2                          1.0 -0.301301 -0.595938    -0.200000   \n",
       "3                          0.0 -0.101101 -0.686275    -0.454545   \n",
       "4                          0.0  0.899900 -0.763539    -0.527273   \n",
       "\n",
       "   blood_glucose_level  \n",
       "0            -0.454545  \n",
       "1            -1.000000  \n",
       "2            -0.290909  \n",
       "3            -0.318182  \n",
       "4            -0.318182  "
      ]
     },
     "execution_count": 2,
     "metadata": {},
     "output_type": "execute_result"
    }
   ],
   "source": [
    "model_df = pd.read_csv(\"status.csv\")\n",
    "model_df.head()"
   ]
  },
  {
   "cell_type": "code",
   "execution_count": 3,
   "id": "75149ef0-13fa-46ef-b206-e53e03827c55",
   "metadata": {},
   "outputs": [],
   "source": [
    "# Define features (X) and target (y)\n",
    "X = model_df.drop(\"diabetes\",axis=1)\n",
    "y = model_df[\"diabetes\"]"
   ]
  },
  {
   "cell_type": "code",
   "execution_count": 4,
   "id": "2038e224-c33d-4b2e-857c-e0c8d34ebe58",
   "metadata": {},
   "outputs": [
    {
     "data": {
      "text/plain": [
       "((89983, 11), (9999, 11))"
      ]
     },
     "execution_count": 4,
     "metadata": {},
     "output_type": "execute_result"
    }
   ],
   "source": [
    "# Split data into training and test sets\n",
    "X_train_, X_test, y_train_, y_test = train_test_split(\n",
    "    X, y, test_size=0.10, random_state=42, stratify=y\n",
    ")\n",
    "X_train_.shape,X_test.shape"
   ]
  },
  {
   "cell_type": "code",
   "execution_count": 5,
   "id": "045a9e8d-cb1a-41ae-9887-7db350fd3326",
   "metadata": {
    "scrolled": true
   },
   "outputs": [
    {
     "name": "stderr",
     "output_type": "stream",
     "text": [
      "/Users/durudemirbag/miniforge3/envs/tf/lib/python3.9/site-packages/sklearn/base.py:474: FutureWarning: `BaseEstimator._validate_data` is deprecated in 1.6 and will be removed in 1.7. Use `sklearn.utils.validation.validate_data` instead. This function becomes public and is part of the scikit-learn developer API.\n",
      "  warnings.warn(\n"
     ]
    },
    {
     "data": {
      "text/plain": [
       "((164666, 11), (9999, 11))"
      ]
     },
     "execution_count": 5,
     "metadata": {},
     "output_type": "execute_result"
    }
   ],
   "source": [
    "smote = SMOTE(random_state=42)\n",
    "X_train, y_train = smote.fit_resample(X_train_, y_train_)\n",
    "X_train.shape, X_test.shape"
   ]
  },
  {
   "cell_type": "code",
   "execution_count": 6,
   "id": "752a280e-6216-4a53-885a-842adaa07dae",
   "metadata": {},
   "outputs": [
    {
     "data": {
      "text/plain": [
       "(array([[1., 0.],\n",
       "        [1., 0.],\n",
       "        [1., 0.],\n",
       "        ...,\n",
       "        [0., 1.],\n",
       "        [0., 1.],\n",
       "        [0., 1.]]),\n",
       " array([[1., 0.],\n",
       "        [1., 0.],\n",
       "        [1., 0.],\n",
       "        ...,\n",
       "        [1., 0.],\n",
       "        [1., 0.],\n",
       "        [1., 0.]]))"
      ]
     },
     "execution_count": 6,
     "metadata": {},
     "output_type": "execute_result"
    }
   ],
   "source": [
    "# Encode target variable using One-Hot Encoding\n",
    "encoder = OneHotEncoder(sparse_output=False, drop=None)\n",
    "y_train_encoded = encoder.fit_transform(y_train.to_frame())\n",
    "y_test_encoded = encoder.transform(y_test.to_frame())\n",
    "y_train_encoded, y_test_encoded"
   ]
  },
  {
   "cell_type": "code",
   "execution_count": 7,
   "id": "8d159464-e992-44b8-aacc-e40a0f873573",
   "metadata": {},
   "outputs": [
    {
     "data": {
      "text/plain": [
       "(164666, 9999, 164666, 9999)"
      ]
     },
     "execution_count": 7,
     "metadata": {},
     "output_type": "execute_result"
    }
   ],
   "source": [
    "len(y_train_encoded), len(y_test_encoded),len(X_train), len(X_test)"
   ]
  },
  {
   "cell_type": "code",
   "execution_count": 8,
   "id": "10a315fd-4715-4de9-93a2-018df430214f",
   "metadata": {},
   "outputs": [
    {
     "name": "stderr",
     "output_type": "stream",
     "text": [
      "/Users/durudemirbag/miniforge3/envs/tf/lib/python3.9/site-packages/keras/src/layers/core/dense.py:93: UserWarning: Do not pass an `input_shape`/`input_dim` argument to a layer. When using Sequential models, prefer using an `Input(shape)` object as the first layer in the model instead.\n",
      "  super().__init__(activity_regularizer=activity_regularizer, **kwargs)\n",
      "2025-08-24 23:05:02.002826: I metal_plugin/src/device/metal_device.cc:1154] Metal device set to: Apple M2\n",
      "2025-08-24 23:05:02.002968: I metal_plugin/src/device/metal_device.cc:296] systemMemory: 8.00 GB\n",
      "2025-08-24 23:05:02.002974: I metal_plugin/src/device/metal_device.cc:313] maxCacheSize: 2.67 GB\n",
      "2025-08-24 23:05:02.003188: I tensorflow/core/common_runtime/pluggable_device/pluggable_device_factory.cc:305] Could not identify NUMA node of platform GPU ID 0, defaulting to 0. Your kernel may not have been built with NUMA support.\n",
      "2025-08-24 23:05:02.003197: I tensorflow/core/common_runtime/pluggable_device/pluggable_device_factory.cc:271] Created TensorFlow device (/job:localhost/replica:0/task:0/device:GPU:0 with 0 MB memory) -> physical PluggableDevice (device: 0, name: METAL, pci bus id: <undefined>)\n"
     ]
    },
    {
     "data": {
      "text/html": [
       "<pre style=\"white-space:pre;overflow-x:auto;line-height:normal;font-family:Menlo,'DejaVu Sans Mono',consolas,'Courier New',monospace\"><span style=\"font-weight: bold\">Model: \"sequential\"</span>\n",
       "</pre>\n"
      ],
      "text/plain": [
       "\u001b[1mModel: \"sequential\"\u001b[0m\n"
      ]
     },
     "metadata": {},
     "output_type": "display_data"
    },
    {
     "data": {
      "text/html": [
       "<pre style=\"white-space:pre;overflow-x:auto;line-height:normal;font-family:Menlo,'DejaVu Sans Mono',consolas,'Courier New',monospace\">┏━━━━━━━━━━━━━━━━━━━━━━━━━━━━━━━━━┳━━━━━━━━━━━━━━━━━━━━━━━━┳━━━━━━━━━━━━━━━┓\n",
       "┃<span style=\"font-weight: bold\"> Layer (type)                    </span>┃<span style=\"font-weight: bold\"> Output Shape           </span>┃<span style=\"font-weight: bold\">       Param # </span>┃\n",
       "┡━━━━━━━━━━━━━━━━━━━━━━━━━━━━━━━━━╇━━━━━━━━━━━━━━━━━━━━━━━━╇━━━━━━━━━━━━━━━┩\n",
       "│ dense (<span style=\"color: #0087ff; text-decoration-color: #0087ff\">Dense</span>)                   │ (<span style=\"color: #00d7ff; text-decoration-color: #00d7ff\">None</span>, <span style=\"color: #00af00; text-decoration-color: #00af00\">128</span>)            │         <span style=\"color: #00af00; text-decoration-color: #00af00\">1,536</span> │\n",
       "├─────────────────────────────────┼────────────────────────┼───────────────┤\n",
       "│ dense_1 (<span style=\"color: #0087ff; text-decoration-color: #0087ff\">Dense</span>)                 │ (<span style=\"color: #00d7ff; text-decoration-color: #00d7ff\">None</span>, <span style=\"color: #00af00; text-decoration-color: #00af00\">128</span>)            │        <span style=\"color: #00af00; text-decoration-color: #00af00\">16,512</span> │\n",
       "├─────────────────────────────────┼────────────────────────┼───────────────┤\n",
       "│ dense_2 (<span style=\"color: #0087ff; text-decoration-color: #0087ff\">Dense</span>)                 │ (<span style=\"color: #00d7ff; text-decoration-color: #00d7ff\">None</span>, <span style=\"color: #00af00; text-decoration-color: #00af00\">64</span>)             │         <span style=\"color: #00af00; text-decoration-color: #00af00\">8,256</span> │\n",
       "├─────────────────────────────────┼────────────────────────┼───────────────┤\n",
       "│ dense_3 (<span style=\"color: #0087ff; text-decoration-color: #0087ff\">Dense</span>)                 │ (<span style=\"color: #00d7ff; text-decoration-color: #00d7ff\">None</span>, <span style=\"color: #00af00; text-decoration-color: #00af00\">2</span>)              │           <span style=\"color: #00af00; text-decoration-color: #00af00\">130</span> │\n",
       "└─────────────────────────────────┴────────────────────────┴───────────────┘\n",
       "</pre>\n"
      ],
      "text/plain": [
       "┏━━━━━━━━━━━━━━━━━━━━━━━━━━━━━━━━━┳━━━━━━━━━━━━━━━━━━━━━━━━┳━━━━━━━━━━━━━━━┓\n",
       "┃\u001b[1m \u001b[0m\u001b[1mLayer (type)                   \u001b[0m\u001b[1m \u001b[0m┃\u001b[1m \u001b[0m\u001b[1mOutput Shape          \u001b[0m\u001b[1m \u001b[0m┃\u001b[1m \u001b[0m\u001b[1m      Param #\u001b[0m\u001b[1m \u001b[0m┃\n",
       "┡━━━━━━━━━━━━━━━━━━━━━━━━━━━━━━━━━╇━━━━━━━━━━━━━━━━━━━━━━━━╇━━━━━━━━━━━━━━━┩\n",
       "│ dense (\u001b[38;5;33mDense\u001b[0m)                   │ (\u001b[38;5;45mNone\u001b[0m, \u001b[38;5;34m128\u001b[0m)            │         \u001b[38;5;34m1,536\u001b[0m │\n",
       "├─────────────────────────────────┼────────────────────────┼───────────────┤\n",
       "│ dense_1 (\u001b[38;5;33mDense\u001b[0m)                 │ (\u001b[38;5;45mNone\u001b[0m, \u001b[38;5;34m128\u001b[0m)            │        \u001b[38;5;34m16,512\u001b[0m │\n",
       "├─────────────────────────────────┼────────────────────────┼───────────────┤\n",
       "│ dense_2 (\u001b[38;5;33mDense\u001b[0m)                 │ (\u001b[38;5;45mNone\u001b[0m, \u001b[38;5;34m64\u001b[0m)             │         \u001b[38;5;34m8,256\u001b[0m │\n",
       "├─────────────────────────────────┼────────────────────────┼───────────────┤\n",
       "│ dense_3 (\u001b[38;5;33mDense\u001b[0m)                 │ (\u001b[38;5;45mNone\u001b[0m, \u001b[38;5;34m2\u001b[0m)              │           \u001b[38;5;34m130\u001b[0m │\n",
       "└─────────────────────────────────┴────────────────────────┴───────────────┘\n"
      ]
     },
     "metadata": {},
     "output_type": "display_data"
    },
    {
     "data": {
      "text/html": [
       "<pre style=\"white-space:pre;overflow-x:auto;line-height:normal;font-family:Menlo,'DejaVu Sans Mono',consolas,'Courier New',monospace\"><span style=\"font-weight: bold\"> Total params: </span><span style=\"color: #00af00; text-decoration-color: #00af00\">26,434</span> (103.26 KB)\n",
       "</pre>\n"
      ],
      "text/plain": [
       "\u001b[1m Total params: \u001b[0m\u001b[38;5;34m26,434\u001b[0m (103.26 KB)\n"
      ]
     },
     "metadata": {},
     "output_type": "display_data"
    },
    {
     "data": {
      "text/html": [
       "<pre style=\"white-space:pre;overflow-x:auto;line-height:normal;font-family:Menlo,'DejaVu Sans Mono',consolas,'Courier New',monospace\"><span style=\"font-weight: bold\"> Trainable params: </span><span style=\"color: #00af00; text-decoration-color: #00af00\">26,434</span> (103.26 KB)\n",
       "</pre>\n"
      ],
      "text/plain": [
       "\u001b[1m Trainable params: \u001b[0m\u001b[38;5;34m26,434\u001b[0m (103.26 KB)\n"
      ]
     },
     "metadata": {},
     "output_type": "display_data"
    },
    {
     "data": {
      "text/html": [
       "<pre style=\"white-space:pre;overflow-x:auto;line-height:normal;font-family:Menlo,'DejaVu Sans Mono',consolas,'Courier New',monospace\"><span style=\"font-weight: bold\"> Non-trainable params: </span><span style=\"color: #00af00; text-decoration-color: #00af00\">0</span> (0.00 B)\n",
       "</pre>\n"
      ],
      "text/plain": [
       "\u001b[1m Non-trainable params: \u001b[0m\u001b[38;5;34m0\u001b[0m (0.00 B)\n"
      ]
     },
     "metadata": {},
     "output_type": "display_data"
    },
    {
     "name": "stdout",
     "output_type": "stream",
     "text": [
      "Epoch 1/200\n"
     ]
    },
    {
     "name": "stderr",
     "output_type": "stream",
     "text": [
      "2025-08-24 23:05:02.500125: I tensorflow/core/grappler/optimizers/custom_graph_optimizer_registry.cc:117] Plugin optimizer for device_type GPU is enabled.\n"
     ]
    },
    {
     "name": "stdout",
     "output_type": "stream",
     "text": [
      "\u001b[1m1287/1287\u001b[0m \u001b[32m━━━━━━━━━━━━━━━━━━━━\u001b[0m\u001b[37m\u001b[0m \u001b[1m14s\u001b[0m 10ms/step - accuracy: 0.8811 - loss: 0.2523 - recall: 0.8811 - val_accuracy: 0.8937 - val_loss: 0.1924 - val_recall: 0.8937\n",
      "Epoch 2/200\n",
      "\u001b[1m1287/1287\u001b[0m \u001b[32m━━━━━━━━━━━━━━━━━━━━\u001b[0m\u001b[37m\u001b[0m \u001b[1m14s\u001b[0m 11ms/step - accuracy: 0.9062 - loss: 0.1909 - recall: 0.9062 - val_accuracy: 0.9018 - val_loss: 0.1734 - val_recall: 0.9018\n",
      "Epoch 3/200\n",
      "\u001b[1m1287/1287\u001b[0m \u001b[32m━━━━━━━━━━━━━━━━━━━━\u001b[0m\u001b[37m\u001b[0m \u001b[1m14s\u001b[0m 11ms/step - accuracy: 0.9078 - loss: 0.1864 - recall: 0.9078 - val_accuracy: 0.8879 - val_loss: 0.2132 - val_recall: 0.8879\n",
      "Epoch 4/200\n",
      "\u001b[1m1287/1287\u001b[0m \u001b[32m━━━━━━━━━━━━━━━━━━━━\u001b[0m\u001b[37m\u001b[0m \u001b[1m14s\u001b[0m 11ms/step - accuracy: 0.9087 - loss: 0.1855 - recall: 0.9087 - val_accuracy: 0.8885 - val_loss: 0.2132 - val_recall: 0.8885\n",
      "Epoch 5/200\n",
      "\u001b[1m1287/1287\u001b[0m \u001b[32m━━━━━━━━━━━━━━━━━━━━\u001b[0m\u001b[37m\u001b[0m \u001b[1m14s\u001b[0m 11ms/step - accuracy: 0.9097 - loss: 0.1835 - recall: 0.9097 - val_accuracy: 0.8824 - val_loss: 0.2042 - val_recall: 0.8824\n",
      "Epoch 6/200\n",
      "\u001b[1m1287/1287\u001b[0m \u001b[32m━━━━━━━━━━━━━━━━━━━━\u001b[0m\u001b[37m\u001b[0m \u001b[1m14s\u001b[0m 11ms/step - accuracy: 0.9096 - loss: 0.1821 - recall: 0.9096 - val_accuracy: 0.8879 - val_loss: 0.2048 - val_recall: 0.8879\n",
      "Epoch 7/200\n",
      "\u001b[1m1287/1287\u001b[0m \u001b[32m━━━━━━━━━━━━━━━━━━━━\u001b[0m\u001b[37m\u001b[0m \u001b[1m17s\u001b[0m 13ms/step - accuracy: 0.9093 - loss: 0.1812 - recall: 0.9093 - val_accuracy: 0.8872 - val_loss: 0.2052 - val_recall: 0.8872\n",
      "Epoch 8/200\n",
      "\u001b[1m1287/1287\u001b[0m \u001b[32m━━━━━━━━━━━━━━━━━━━━\u001b[0m\u001b[37m\u001b[0m \u001b[1m16s\u001b[0m 12ms/step - accuracy: 0.9116 - loss: 0.1775 - recall: 0.9116 - val_accuracy: 0.9282 - val_loss: 0.1532 - val_recall: 0.9282\n",
      "Epoch 9/200\n",
      "\u001b[1m1287/1287\u001b[0m \u001b[32m━━━━━━━━━━━━━━━━━━━━\u001b[0m\u001b[37m\u001b[0m \u001b[1m16s\u001b[0m 12ms/step - accuracy: 0.9116 - loss: 0.1775 - recall: 0.9116 - val_accuracy: 0.8889 - val_loss: 0.1983 - val_recall: 0.8889\n",
      "Epoch 10/200\n",
      "\u001b[1m1287/1287\u001b[0m \u001b[32m━━━━━━━━━━━━━━━━━━━━\u001b[0m\u001b[37m\u001b[0m \u001b[1m16s\u001b[0m 12ms/step - accuracy: 0.9126 - loss: 0.1762 - recall: 0.9126 - val_accuracy: 0.8708 - val_loss: 0.2362 - val_recall: 0.8708\n",
      "Epoch 11/200\n",
      "\u001b[1m1287/1287\u001b[0m \u001b[32m━━━━━━━━━━━━━━━━━━━━\u001b[0m\u001b[37m\u001b[0m \u001b[1m16s\u001b[0m 13ms/step - accuracy: 0.9132 - loss: 0.1761 - recall: 0.9132 - val_accuracy: 0.9183 - val_loss: 0.1562 - val_recall: 0.9183\n",
      "Epoch 12/200\n",
      "\u001b[1m1287/1287\u001b[0m \u001b[32m━━━━━━━━━━━━━━━━━━━━\u001b[0m\u001b[37m\u001b[0m \u001b[1m16s\u001b[0m 13ms/step - accuracy: 0.9134 - loss: 0.1751 - recall: 0.9134 - val_accuracy: 0.9252 - val_loss: 0.1538 - val_recall: 0.9252\n",
      "Epoch 13/200\n",
      "\u001b[1m1287/1287\u001b[0m \u001b[32m━━━━━━━━━━━━━━━━━━━━\u001b[0m\u001b[37m\u001b[0m \u001b[1m16s\u001b[0m 12ms/step - accuracy: 0.9148 - loss: 0.1742 - recall: 0.9148 - val_accuracy: 0.9037 - val_loss: 0.1842 - val_recall: 0.9037\n",
      "Epoch 14/200\n",
      "\u001b[1m1287/1287\u001b[0m \u001b[32m━━━━━━━━━━━━━━━━━━━━\u001b[0m\u001b[37m\u001b[0m \u001b[1m16s\u001b[0m 13ms/step - accuracy: 0.9136 - loss: 0.1753 - recall: 0.9136 - val_accuracy: 0.9080 - val_loss: 0.1763 - val_recall: 0.9080\n",
      "Epoch 15/200\n",
      "\u001b[1m1287/1287\u001b[0m \u001b[32m━━━━━━━━━━━━━━━━━━━━\u001b[0m\u001b[37m\u001b[0m \u001b[1m17s\u001b[0m 13ms/step - accuracy: 0.9134 - loss: 0.1745 - recall: 0.9134 - val_accuracy: 0.9049 - val_loss: 0.1763 - val_recall: 0.9049\n",
      "Epoch 16/200\n",
      "\u001b[1m1287/1287\u001b[0m \u001b[32m━━━━━━━━━━━━━━━━━━━━\u001b[0m\u001b[37m\u001b[0m \u001b[1m16s\u001b[0m 12ms/step - accuracy: 0.9152 - loss: 0.1731 - recall: 0.9152 - val_accuracy: 0.9116 - val_loss: 0.1645 - val_recall: 0.9116\n",
      "Epoch 17/200\n",
      "\u001b[1m1287/1287\u001b[0m \u001b[32m━━━━━━━━━━━━━━━━━━━━\u001b[0m\u001b[37m\u001b[0m \u001b[1m17s\u001b[0m 13ms/step - accuracy: 0.9153 - loss: 0.1718 - recall: 0.9153 - val_accuracy: 0.8984 - val_loss: 0.1734 - val_recall: 0.8984\n",
      "Epoch 18/200\n",
      "\u001b[1m1287/1287\u001b[0m \u001b[32m━━━━━━━━━━━━━━━━━━━━\u001b[0m\u001b[37m\u001b[0m \u001b[1m17s\u001b[0m 13ms/step - accuracy: 0.9158 - loss: 0.1711 - recall: 0.9158 - val_accuracy: 0.9515 - val_loss: 0.1166 - val_recall: 0.9515\n",
      "Epoch 19/200\n",
      "\u001b[1m1287/1287\u001b[0m \u001b[32m━━━━━━━━━━━━━━━━━━━━\u001b[0m\u001b[37m\u001b[0m \u001b[1m16s\u001b[0m 13ms/step - accuracy: 0.9162 - loss: 0.1715 - recall: 0.9162 - val_accuracy: 0.9121 - val_loss: 0.1603 - val_recall: 0.9121\n",
      "Epoch 20/200\n",
      "\u001b[1m1287/1287\u001b[0m \u001b[32m━━━━━━━━━━━━━━━━━━━━\u001b[0m\u001b[37m\u001b[0m \u001b[1m17s\u001b[0m 13ms/step - accuracy: 0.9162 - loss: 0.1704 - recall: 0.9162 - val_accuracy: 0.9194 - val_loss: 0.1487 - val_recall: 0.9194\n",
      "Epoch 21/200\n",
      "\u001b[1m1287/1287\u001b[0m \u001b[32m━━━━━━━━━━━━━━━━━━━━\u001b[0m\u001b[37m\u001b[0m \u001b[1m17s\u001b[0m 13ms/step - accuracy: 0.9172 - loss: 0.1690 - recall: 0.9172 - val_accuracy: 0.9063 - val_loss: 0.1691 - val_recall: 0.9063\n",
      "Epoch 22/200\n",
      "\u001b[1m1287/1287\u001b[0m \u001b[32m━━━━━━━━━━━━━━━━━━━━\u001b[0m\u001b[37m\u001b[0m \u001b[1m17s\u001b[0m 13ms/step - accuracy: 0.9166 - loss: 0.1699 - recall: 0.9166 - val_accuracy: 0.9151 - val_loss: 0.1603 - val_recall: 0.9151\n",
      "Epoch 23/200\n",
      "\u001b[1m1287/1287\u001b[0m \u001b[32m━━━━━━━━━━━━━━━━━━━━\u001b[0m\u001b[37m\u001b[0m \u001b[1m17s\u001b[0m 13ms/step - accuracy: 0.9168 - loss: 0.1709 - recall: 0.9168 - val_accuracy: 0.9237 - val_loss: 0.1470 - val_recall: 0.9237\n",
      "Epoch 24/200\n",
      "\u001b[1m1287/1287\u001b[0m \u001b[32m━━━━━━━━━━━━━━━━━━━━\u001b[0m\u001b[37m\u001b[0m \u001b[1m16s\u001b[0m 13ms/step - accuracy: 0.9163 - loss: 0.1701 - recall: 0.9163 - val_accuracy: 0.8889 - val_loss: 0.1984 - val_recall: 0.8889\n",
      "Epoch 25/200\n",
      "\u001b[1m1287/1287\u001b[0m \u001b[32m━━━━━━━━━━━━━━━━━━━━\u001b[0m\u001b[37m\u001b[0m \u001b[1m17s\u001b[0m 13ms/step - accuracy: 0.9173 - loss: 0.1676 - recall: 0.9173 - val_accuracy: 0.8971 - val_loss: 0.1700 - val_recall: 0.8971\n",
      "Epoch 26/200\n",
      "\u001b[1m1287/1287\u001b[0m \u001b[32m━━━━━━━━━━━━━━━━━━━━\u001b[0m\u001b[37m\u001b[0m \u001b[1m17s\u001b[0m 13ms/step - accuracy: 0.9167 - loss: 0.1693 - recall: 0.9167 - val_accuracy: 0.9069 - val_loss: 0.1770 - val_recall: 0.9069\n",
      "Epoch 27/200\n",
      "\u001b[1m1287/1287\u001b[0m \u001b[32m━━━━━━━━━━━━━━━━━━━━\u001b[0m\u001b[37m\u001b[0m \u001b[1m17s\u001b[0m 14ms/step - accuracy: 0.9169 - loss: 0.1691 - recall: 0.9169 - val_accuracy: 0.8814 - val_loss: 0.1998 - val_recall: 0.8814\n",
      "Epoch 28/200\n",
      "\u001b[1m1287/1287\u001b[0m \u001b[32m━━━━━━━━━━━━━━━━━━━━\u001b[0m\u001b[37m\u001b[0m \u001b[1m17s\u001b[0m 13ms/step - accuracy: 0.9166 - loss: 0.1693 - recall: 0.9166 - val_accuracy: 0.8800 - val_loss: 0.2031 - val_recall: 0.8800\n",
      "Epoch 29/200\n",
      "\u001b[1m1287/1287\u001b[0m \u001b[32m━━━━━━━━━━━━━━━━━━━━\u001b[0m\u001b[37m\u001b[0m \u001b[1m17s\u001b[0m 13ms/step - accuracy: 0.9181 - loss: 0.1677 - recall: 0.9181 - val_accuracy: 0.9118 - val_loss: 0.1712 - val_recall: 0.9118\n",
      "Epoch 30/200\n",
      "\u001b[1m1287/1287\u001b[0m \u001b[32m━━━━━━━━━━━━━━━━━━━━\u001b[0m\u001b[37m\u001b[0m \u001b[1m18s\u001b[0m 14ms/step - accuracy: 0.9166 - loss: 0.1693 - recall: 0.9166 - val_accuracy: 0.8897 - val_loss: 0.2013 - val_recall: 0.8897\n",
      "Epoch 31/200\n",
      "\u001b[1m1287/1287\u001b[0m \u001b[32m━━━━━━━━━━━━━━━━━━━━\u001b[0m\u001b[37m\u001b[0m \u001b[1m17s\u001b[0m 13ms/step - accuracy: 0.9182 - loss: 0.1676 - recall: 0.9182 - val_accuracy: 0.9043 - val_loss: 0.1738 - val_recall: 0.9043\n",
      "Epoch 32/200\n",
      "\u001b[1m1287/1287\u001b[0m \u001b[32m━━━━━━━━━━━━━━━━━━━━\u001b[0m\u001b[37m\u001b[0m \u001b[1m17s\u001b[0m 13ms/step - accuracy: 0.9162 - loss: 0.1686 - recall: 0.9162 - val_accuracy: 0.8973 - val_loss: 0.1878 - val_recall: 0.8973\n",
      "Epoch 33/200\n",
      "\u001b[1m1287/1287\u001b[0m \u001b[32m━━━━━━━━━━━━━━━━━━━━\u001b[0m\u001b[37m\u001b[0m \u001b[1m16s\u001b[0m 13ms/step - accuracy: 0.9170 - loss: 0.1682 - recall: 0.9170 - val_accuracy: 0.8944 - val_loss: 0.1830 - val_recall: 0.8944\n"
     ]
    }
   ],
   "source": [
    "# Build a neural network model \n",
    "model = Sequential()\n",
    "model.add(Dense(128, input_shape=(X_train.shape[1],), activation='tanh'))\n",
    "model.add(Dense(128, activation='tanh'))\n",
    "model.add(Dense(64, activation='tanh'))\n",
    "model.add(Dense(2, activation='softmax'))\n",
    "\n",
    "# Compile the model with categorical crossentropy loss and Adam optimizer\n",
    "model.compile(loss='categorical_crossentropy', optimizer=Adam(learning_rate=0.005), metrics=['accuracy',\"recall\"])\n",
    "model.summary()\n",
    "\n",
    "# Train the model with early stopping to prevent overfitting\n",
    "h = model.fit(\n",
    "    X_train, y_train_encoded,\n",
    "    epochs=200,\n",
    "    batch_size=128,\n",
    "    callbacks = EarlyStopping(\n",
    "    monitor='val_loss',   \n",
    "    patience=15),\n",
    "    verbose=1,\n",
    "    validation_data=(X_test, y_test_encoded) \n",
    ")"
   ]
  },
  {
   "cell_type": "code",
   "execution_count": 9,
   "id": "08bf591c-69d8-44ca-b97c-13b9b3f88be8",
   "metadata": {},
   "outputs": [],
   "source": [
    "# Plot training vs validation accuracy and loss across epochs\n",
    "def LossHistory (history):\n",
    "    # Accuracy \n",
    "    plt.figure(figsize=(8,4))\n",
    "    plt.plot(history.history['accuracy'], label='Train Accuracy')\n",
    "    plt.plot(history.history['val_accuracy'], label='Validation Accuracy')\n",
    "    plt.xlabel('Epoch')\n",
    "    plt.ylabel('Accuracy')\n",
    "    plt.title('Accuracy per Epoch')\n",
    "    plt.legend()\n",
    "    plt.grid(True)\n",
    "    plt.show()\n",
    "\n",
    "    # Loss \n",
    "    plt.figure(figsize=(8,4))\n",
    "    plt.plot(history.history['loss'], label='Train Loss')\n",
    "    plt.plot(history.history['val_loss'], label='Validation Loss')\n",
    "    plt.xlabel('Epoch')\n",
    "    plt.ylabel('Loss')\n",
    "    plt.title('Loss per Epoch')\n",
    "    plt.legend()\n",
    "    plt.grid(True)\n",
    "    plt.show()"
   ]
  },
  {
   "cell_type": "code",
   "execution_count": 10,
   "id": "ba749605-597c-416f-8b12-5966f27fdf02",
   "metadata": {},
   "outputs": [
    {
     "data": {
      "image/png": "[encoded data removed]",
      "text/plain": [
       "<Figure size 800x400 with 1 Axes>"
      ]
     },
     "metadata": {},
     "output_type": "display_data"
    },
    {
     "data": {
      "image/png": "[encoded data removed]",
      "text/plain": [
       "<Figure size 800x400 with 1 Axes>"
      ]
     },
     "metadata": {},
     "output_type": "display_data"
    }
   ],
   "source": [
    "LossHistory(h)"
   ]
  },
  {
   "cell_type": "code",
   "execution_count": 11,
   "id": "5e86c504-330c-4800-a722-8c45d0e25085",
   "metadata": {},
   "outputs": [
    {
     "name": "stdout",
     "output_type": "stream",
     "text": [
      "\u001b[1m5146/5146\u001b[0m \u001b[32m━━━━━━━━━━━━━━━━━━━━\u001b[0m\u001b[37m\u001b[0m \u001b[1m6s\u001b[0m 1ms/step\n",
      "              precision    recall  f1-score   support\n",
      "\n",
      "           0       0.94      0.89      0.92     82333\n",
      "           1       0.90      0.94      0.92     82333\n",
      "\n",
      "    accuracy                           0.92    164666\n",
      "   macro avg       0.92      0.92      0.92    164666\n",
      "weighted avg       0.92      0.92      0.92    164666\n",
      "\n"
     ]
    }
   ],
   "source": [
    "# Evaluate model performance on train set\n",
    "y_pred_prob_train = model.predict(X_train)\n",
    "y_pred_train = np.argmax(y_pred_prob_train, axis=1)\n",
    "y_true_train = np.argmax(y_train_encoded, axis=1)\n",
    "\n",
    "print(classification_report(y_true_train, y_pred_train))"
   ]
  },
  {
   "cell_type": "code",
   "execution_count": 12,
   "id": "6d4cde91-c44d-4e81-be03-eeff16da2f4d",
   "metadata": {},
   "outputs": [
    {
     "name": "stdout",
     "output_type": "stream",
     "text": [
      "\u001b[1m313/313\u001b[0m \u001b[32m━━━━━━━━━━━━━━━━━━━━\u001b[0m\u001b[37m\u001b[0m \u001b[1m0s\u001b[0m 1ms/step\n",
      "              precision    recall  f1-score   support\n",
      "\n",
      "           0       0.99      0.89      0.94      9149\n",
      "           1       0.44      0.91      0.59       850\n",
      "\n",
      "    accuracy                           0.89      9999\n",
      "   macro avg       0.72      0.90      0.77      9999\n",
      "weighted avg       0.94      0.89      0.91      9999\n",
      "\n"
     ]
    }
   ],
   "source": [
    "# Evaluate model performance on test set\n",
    "y_pred_prob_test = model.predict(X_test)\n",
    "y_pred_test = np.argmax(y_pred_prob_test, axis=1)\n",
    "y_true = np.argmax(y_test_encoded, axis=1)\n",
    "\n",
    "print(classification_report(y_true, y_pred_test))"
   ]
  },
  {
   "cell_type": "code",
   "execution_count": 13,
   "id": "643f0a15-8213-4ab0-b031-b5e8a910dab3",
   "metadata": {},
   "outputs": [
    {
     "data": {
      "text/plain": [
       "array([[8171,  978],\n",
       "       [  78,  772]])"
      ]
     },
     "execution_count": 13,
     "metadata": {},
     "output_type": "execute_result"
    }
   ],
   "source": [
    "# Generate confusion matrix to evaluate classification results\n",
    "cm = confusion_matrix(y_true, y_pred_test)\n",
    "cm"
   ]
  },
  {
   "cell_type": "code",
   "execution_count": 14,
   "id": "951ade16-c1c1-434e-91ef-9aea103dea80",
   "metadata": {},
   "outputs": [
    {
     "name": "stdout",
     "output_type": "stream",
     "text": [
      "AUC score: 0.9754336378774923\n"
     ]
    }
   ],
   "source": [
    "# AUC calculation\n",
    "# y_pred_prob[:,1] = predicted probability for class 1(diabetes)\n",
    "auc = roc_auc_score(y_true, y_pred_prob_test[:, 1])\n",
    "print(\"AUC score:\", auc)"
   ]
  },
  {
   "cell_type": "code",
   "execution_count": 15,
   "id": "e1199534-15a6-45be-b905-644300120d3d",
   "metadata": {},
   "outputs": [
    {
     "data": {
      "image/png": "[encoded data removed]",
      "text/plain": [
       "<Figure size 700x500 with 1 Axes>"
      ]
     },
     "metadata": {},
     "output_type": "display_data"
    }
   ],
   "source": [
    "#Precision Recall Curve\n",
    "precision, recall, thresholds = precision_recall_curve(y_true, y_pred_prob_test[:, 1])\n",
    "\n",
    "ap = average_precision_score(y_true, y_pred_prob_test[:, 1])\n",
    "\n",
    "plt.figure(figsize=(7,5))\n",
    "plt.plot(recall, precision, label=f'PR curve (AP = {ap:.2f})')\n",
    "\n",
    "plt.xlabel('Recall')\n",
    "plt.ylabel('Precision')\n",
    "plt.title('Precision-Recall Curve')\n",
    "plt.legend()\n",
    "plt.grid()\n",
    "plt.show()"
   ]
  },
  {
   "cell_type": "code",
   "execution_count": 16,
   "id": "ffc05ea0-637a-417c-b67f-8cc83ecacc39",
   "metadata": {},
   "outputs": [
    {
     "name": "stdout",
     "output_type": "stream",
     "text": [
      "Best Threshold: 0.63533133\n",
      "\n",
      "Classification Report (Optimized Threshold):\n",
      "              precision    recall  f1-score   support\n",
      "\n",
      "           0       0.99      0.94      0.96      9149\n",
      "           1       0.58      0.85      0.69       850\n",
      "\n",
      "    accuracy                           0.94      9999\n",
      "   macro avg       0.78      0.90      0.83      9999\n",
      "weighted avg       0.95      0.94      0.94      9999\n",
      "\n",
      "Confusion Matrix (Optimized Threshold):\n",
      " [[8632  517]\n",
      " [ 125  725]]\n"
     ]
    }
   ],
   "source": [
    "valid_idx = np.where(recall > 0.85)\n",
    "\n",
    "precision_valid = precision[valid_idx]\n",
    "recall_valid = recall[valid_idx]\n",
    "thresholds_valid = thresholds[valid_idx[0]-1]  \n",
    "\n",
    "best_idx = np.argmax(precision_valid)\n",
    "best_precision = precision_valid[best_idx]\n",
    "best_recall = recall_valid[best_idx]\n",
    "best_threshold = thresholds_valid[best_idx]\n",
    "\n",
    "print(\"Best Threshold:\", best_threshold)\n",
    "\n",
    "y_pred_opt = (y_pred_prob_test[:, 1] >= best_threshold).astype(int)\n",
    "\n",
    "\n",
    "print(\"\\nClassification Report (Optimized Threshold):\")\n",
    "print(classification_report(y_true, y_pred_opt))\n",
    "\n",
    "cm_opt = confusion_matrix(y_true, y_pred_opt)\n",
    "print(\"Confusion Matrix (Optimized Threshold):\\n\", cm_opt)"
   ]
  },
  {
   "cell_type": "code",
   "execution_count": 17,
   "id": "dd816508-735d-4371-bde3-cab057c9f671",
   "metadata": {},
   "outputs": [
    {
     "name": "stdout",
     "output_type": "stream",
     "text": [
      "Best Threshold: 0.5268846\n",
      "\n",
      "Classification Report (Optimized Threshold):\n",
      "              precision    recall  f1-score   support\n",
      "\n",
      "           0       0.99      0.90      0.94      9149\n",
      "           1       0.46      0.90      0.61       850\n",
      "\n",
      "    accuracy                           0.90      9999\n",
      "   macro avg       0.73      0.90      0.78      9999\n",
      "weighted avg       0.95      0.90      0.92      9999\n",
      "\n",
      "Confusion Matrix (Optimized Threshold):\n",
      " [[8254  895]\n",
      " [  83  767]]\n"
     ]
    }
   ],
   "source": [
    "valid_idx = np.where(recall > 0.90)\n",
    "\n",
    "precision_valid = precision[valid_idx]\n",
    "recall_valid = recall[valid_idx]\n",
    "thresholds_valid = thresholds[valid_idx[0]-1]  \n",
    "\n",
    "best_idx = np.argmax(precision_valid)\n",
    "best_precision = precision_valid[best_idx]\n",
    "best_recall = recall_valid[best_idx]\n",
    "best_threshold = thresholds_valid[best_idx]\n",
    "\n",
    "print(\"Best Threshold:\", best_threshold)\n",
    "\n",
    "y_pred_opt = (y_pred_prob_test[:, 1] >= best_threshold).astype(int)\n",
    "\n",
    "\n",
    "print(\"\\nClassification Report (Optimized Threshold):\")\n",
    "print(classification_report(y_true, y_pred_opt))\n",
    "\n",
    "cm_opt = confusion_matrix(y_true, y_pred_opt)\n",
    "print(\"Confusion Matrix (Optimized Threshold):\\n\", cm_opt)"
   ]
  },
  {
   "cell_type": "code",
   "execution_count": null,
   "id": "5772bd21-d0d2-4c13-adff-257c4e8a5db1",
   "metadata": {},
   "outputs": [],
   "source": []
  }
 ],
 "metadata": {
  "kernelspec": {
   "display_name": "Python 3 (ipykernel)",
   "language": "python",
   "name": "python3"
  },
  "language_info": {
   "codemirror_mode": {
    "name": "ipython",
    "version": 3
   },
   "file_extension": ".py",
   "mimetype": "text/x-python",
   "name": "python",
   "nbconvert_exporter": "python",
   "pygments_lexer": "ipython3",
   "version": "3.9.23"
  }
 },
 "nbformat": 4,
 "nbformat_minor": 5
}
