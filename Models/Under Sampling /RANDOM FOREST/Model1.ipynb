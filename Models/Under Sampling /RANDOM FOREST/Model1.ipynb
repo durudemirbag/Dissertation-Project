{
 "cells": [
  {
   "cell_type": "markdown",
   "id": "dfeb2561-01eb-4cba-bf81-cd8dec6927aa",
   "metadata": {},
   "source": [
    "# Model 1"
   ]
  },
  {
   "cell_type": "code",
   "execution_count": 1,
   "id": "4a60efa8-612b-408b-917f-ecf72d642fdf",
   "metadata": {},
   "outputs": [],
   "source": [
    "import pandas as pd\n",
    "import numpy as np\n",
    "import matplotlib.pyplot as plt\n",
    "from sklearn.ensemble import RandomForestClassifier\n",
    "from imblearn.under_sampling import RandomUnderSampler\n",
    "from sklearn.model_selection import GridSearchCV\n",
    "from sklearn.model_selection import train_test_split\n",
    "from sklearn.metrics import confusion_matrix, classification_report, accuracy_score, precision_recall_curve, average_precision_score, roc_auc_score, roc_curve"
   ]
  },
  {
   "cell_type": "code",
   "execution_count": 2,
   "id": "65c599ba-4a08-4623-97ce-4d023d7ff4b5",
   "metadata": {
    "scrolled": true
   },
   "outputs": [
    {
     "data": {
      "text/html": [
       "<div>\n",
       "<style scoped>\n",
       "    .dataframe tbody tr th:only-of-type {\n",
       "        vertical-align: middle;\n",
       "    }\n",
       "\n",
       "    .dataframe tbody tr th {\n",
       "        vertical-align: top;\n",
       "    }\n",
       "\n",
       "    .dataframe thead th {\n",
       "        text-align: right;\n",
       "    }\n",
       "</style>\n",
       "<table border=\"1\" class=\"dataframe\">\n",
       "  <thead>\n",
       "    <tr style=\"text-align: right;\">\n",
       "      <th></th>\n",
       "      <th>hypertension</th>\n",
       "      <th>heart_disease</th>\n",
       "      <th>diabetes</th>\n",
       "      <th>problematic</th>\n",
       "      <th>gender</th>\n",
       "      <th>smoking_history_No Info</th>\n",
       "      <th>smoking_history_current</th>\n",
       "      <th>smoking_history_not current</th>\n",
       "      <th>age</th>\n",
       "      <th>bmi</th>\n",
       "      <th>HbA1c_level</th>\n",
       "      <th>blood_glucose_level</th>\n",
       "    </tr>\n",
       "  </thead>\n",
       "  <tbody>\n",
       "    <tr>\n",
       "      <th>0</th>\n",
       "      <td>0</td>\n",
       "      <td>1</td>\n",
       "      <td>0</td>\n",
       "      <td>0</td>\n",
       "      <td>0</td>\n",
       "      <td>0.0</td>\n",
       "      <td>0.0</td>\n",
       "      <td>1.0</td>\n",
       "      <td>1.000000</td>\n",
       "      <td>-0.645658</td>\n",
       "      <td>0.127273</td>\n",
       "      <td>-0.454545</td>\n",
       "    </tr>\n",
       "    <tr>\n",
       "      <th>1</th>\n",
       "      <td>0</td>\n",
       "      <td>0</td>\n",
       "      <td>0</td>\n",
       "      <td>0</td>\n",
       "      <td>0</td>\n",
       "      <td>1.0</td>\n",
       "      <td>0.0</td>\n",
       "      <td>0.0</td>\n",
       "      <td>0.349349</td>\n",
       "      <td>-0.595938</td>\n",
       "      <td>0.127273</td>\n",
       "      <td>-1.000000</td>\n",
       "    </tr>\n",
       "    <tr>\n",
       "      <th>2</th>\n",
       "      <td>0</td>\n",
       "      <td>0</td>\n",
       "      <td>0</td>\n",
       "      <td>0</td>\n",
       "      <td>1</td>\n",
       "      <td>0.0</td>\n",
       "      <td>0.0</td>\n",
       "      <td>1.0</td>\n",
       "      <td>-0.301301</td>\n",
       "      <td>-0.595938</td>\n",
       "      <td>-0.200000</td>\n",
       "      <td>-0.290909</td>\n",
       "    </tr>\n",
       "    <tr>\n",
       "      <th>3</th>\n",
       "      <td>0</td>\n",
       "      <td>0</td>\n",
       "      <td>0</td>\n",
       "      <td>0</td>\n",
       "      <td>0</td>\n",
       "      <td>0.0</td>\n",
       "      <td>1.0</td>\n",
       "      <td>0.0</td>\n",
       "      <td>-0.101101</td>\n",
       "      <td>-0.686275</td>\n",
       "      <td>-0.454545</td>\n",
       "      <td>-0.318182</td>\n",
       "    </tr>\n",
       "    <tr>\n",
       "      <th>4</th>\n",
       "      <td>1</td>\n",
       "      <td>1</td>\n",
       "      <td>0</td>\n",
       "      <td>0</td>\n",
       "      <td>1</td>\n",
       "      <td>0.0</td>\n",
       "      <td>1.0</td>\n",
       "      <td>0.0</td>\n",
       "      <td>0.899900</td>\n",
       "      <td>-0.763539</td>\n",
       "      <td>-0.527273</td>\n",
       "      <td>-0.318182</td>\n",
       "    </tr>\n",
       "  </tbody>\n",
       "</table>\n",
       "</div>"
      ],
      "text/plain": [
       "   hypertension  heart_disease  diabetes  problematic  gender  \\\n",
       "0             0              1         0            0       0   \n",
       "1             0              0         0            0       0   \n",
       "2             0              0         0            0       1   \n",
       "3             0              0         0            0       0   \n",
       "4             1              1         0            0       1   \n",
       "\n",
       "   smoking_history_No Info  smoking_history_current  \\\n",
       "0                      0.0                      0.0   \n",
       "1                      1.0                      0.0   \n",
       "2                      0.0                      0.0   \n",
       "3                      0.0                      1.0   \n",
       "4                      0.0                      1.0   \n",
       "\n",
       "   smoking_history_not current       age       bmi  HbA1c_level  \\\n",
       "0                          1.0  1.000000 -0.645658     0.127273   \n",
       "1                          0.0  0.349349 -0.595938     0.127273   \n",
       "2                          1.0 -0.301301 -0.595938    -0.200000   \n",
       "3                          0.0 -0.101101 -0.686275    -0.454545   \n",
       "4                          0.0  0.899900 -0.763539    -0.527273   \n",
       "\n",
       "   blood_glucose_level  \n",
       "0            -0.454545  \n",
       "1            -1.000000  \n",
       "2            -0.290909  \n",
       "3            -0.318182  \n",
       "4            -0.318182  "
      ]
     },
     "execution_count": 2,
     "metadata": {},
     "output_type": "execute_result"
    }
   ],
   "source": [
    "model_df = pd.read_csv(\"status.csv\")\n",
    "model_df.head()"
   ]
  },
  {
   "cell_type": "code",
   "execution_count": 3,
   "id": "75149ef0-13fa-46ef-b206-e53e03827c55",
   "metadata": {},
   "outputs": [],
   "source": [
    "# Define features (X) and target (y)\n",
    "X = model_df.drop([\"diabetes\"],axis=1)\n",
    "y = model_df[[\"diabetes\"]]"
   ]
  },
  {
   "cell_type": "code",
   "execution_count": 4,
   "id": "50e68c0e-e740-49e4-9612-95e3e965807b",
   "metadata": {},
   "outputs": [],
   "source": [
    "# Split data into training and test sets\n",
    "X_train_, X_test, y_train_, y_test = train_test_split(\n",
    "    X, y, test_size=0.10, random_state=42, stratify=y\n",
    ")"
   ]
  },
  {
   "cell_type": "code",
   "execution_count": 5,
   "id": "b029fc2b-8f65-4300-aeee-f0565d6eef43",
   "metadata": {},
   "outputs": [
    {
     "name": "stderr",
     "output_type": "stream",
     "text": [
      "/Users/durudemirbag/miniforge3/envs/tf/lib/python3.9/site-packages/sklearn/base.py:484: FutureWarning: `BaseEstimator._check_n_features` is deprecated in 1.6 and will be removed in 1.7. Use `sklearn.utils.validation._check_n_features` instead.\n",
      "  warnings.warn(\n",
      "/Users/durudemirbag/miniforge3/envs/tf/lib/python3.9/site-packages/sklearn/base.py:493: FutureWarning: `BaseEstimator._check_feature_names` is deprecated in 1.6 and will be removed in 1.7. Use `sklearn.utils.validation._check_feature_names` instead.\n",
      "  warnings.warn(\n"
     ]
    },
    {
     "data": {
      "text/plain": [
       "((15300, 11), (9999, 11))"
      ]
     },
     "execution_count": 5,
     "metadata": {},
     "output_type": "execute_result"
    }
   ],
   "source": [
    "# Random Under-Sampling to balance the training set\n",
    "rus = RandomUnderSampler(random_state=42)\n",
    "X_train, y_train = rus.fit_resample(X_train_, y_train_)\n",
    "X_train.shape, X_test.shape"
   ]
  },
  {
   "cell_type": "code",
   "execution_count": 6,
   "id": "343ddc4c-5b5b-446d-b8a0-b8df7cabb733",
   "metadata": {
    "scrolled": true
   },
   "outputs": [
    {
     "name": "stdout",
     "output_type": "stream",
     "text": [
      "Fitting 5 folds for each of 162 candidates, totalling 810 fits\n",
      "\n",
      "Best Parameters: {'max_depth': 15, 'max_features': 'sqrt', 'min_samples_leaf': 2, 'min_samples_split': 10, 'n_estimators': 200}\n",
      "Best Cross-Validation Score: 0.9116339869281045\n"
     ]
    }
   ],
   "source": [
    "# Define hyperparameter grid for Random Forest\n",
    "param_grid = {\n",
    "    'n_estimators': [100, 200, 300],\n",
    "    'max_depth': [10, 15, 25],\n",
    "    'min_samples_split': [2, 5, 10],\n",
    "    'min_samples_leaf': [2, 4, 6],\n",
    "    'max_features': ['sqrt', 'log2']\n",
    "}\n",
    "# Initialize Random Forest model\n",
    "rf = RandomForestClassifier(random_state=42)\n",
    "\n",
    "# Perform Grid Search with cross-validation\n",
    "grid_search = GridSearchCV(estimator=rf, param_grid=param_grid, cv=5, n_jobs=-1, verbose=1)\n",
    "grid_search.fit(X_train, y_train.values.ravel())\n",
    "\n",
    "# Get the best model\n",
    "best_rf_model = grid_search.best_estimator_\n",
    "print(\"\\nBest Parameters:\", grid_search.best_params_)\n",
    "print(\"Best Cross-Validation Score:\", grid_search.best_score_)\n"
   ]
  },
  {
   "cell_type": "code",
   "execution_count": 7,
   "id": "51089fdc-10c0-4055-9ee7-69a1e4334999",
   "metadata": {},
   "outputs": [
    {
     "name": "stdout",
     "output_type": "stream",
     "text": [
      "              precision    recall  f1-score   support\n",
      "\n",
      "           0       0.95      0.93      0.94      7650\n",
      "           1       0.93      0.95      0.94      7650\n",
      "\n",
      "    accuracy                           0.94     15300\n",
      "   macro avg       0.94      0.94      0.94     15300\n",
      "weighted avg       0.94      0.94      0.94     15300\n",
      "\n",
      "[[7113  537]\n",
      " [ 410 7240]]\n",
      "AUC Score: 0.9893140159767612\n"
     ]
    }
   ],
   "source": [
    "# Evaluate model performance on training data\n",
    "y_prob_train = best_rf_model.predict_proba(X_train)[:, 1]\n",
    "y_pred_train = (y_prob_train >= 0.5).astype(int)\n",
    "\n",
    "print(classification_report(y_train, y_pred_train))\n",
    "print(confusion_matrix(y_train, y_pred_train))\n",
    "print(\"AUC Score:\", roc_auc_score(y_train, y_prob_train))"
   ]
  },
  {
   "cell_type": "code",
   "execution_count": 8,
   "id": "1a1b8a19-7ba2-4277-9443-d0c99571be1d",
   "metadata": {},
   "outputs": [
    {
     "name": "stdout",
     "output_type": "stream",
     "text": [
      "              precision    recall  f1-score   support\n",
      "\n",
      "           0       0.99      0.90      0.94      9149\n",
      "           1       0.46      0.92      0.61       850\n",
      "\n",
      "    accuracy                           0.90      9999\n",
      "   macro avg       0.73      0.91      0.78      9999\n",
      "weighted avg       0.95      0.90      0.92      9999\n",
      "\n",
      "[[8246  903]\n",
      " [  72  778]]\n",
      "AUC Score: 0.9785021828165084\n"
     ]
    }
   ],
   "source": [
    "# Evaluate model performance on test data\n",
    "y_prob_test = best_rf_model.predict_proba(X_test)[:, 1]\n",
    "y_pred_test = (y_prob_test >= 0.5).astype(int)\n",
    "\n",
    "print(classification_report(y_test, y_pred_test))\n",
    "print(confusion_matrix(y_test, y_pred_test))\n",
    "print(\"AUC Score:\", roc_auc_score(y_test, y_prob_test))"
   ]
  },
  {
   "cell_type": "code",
   "execution_count": 9,
   "id": "2b0f9061-1c18-41f8-beef-4be228a8f4fc",
   "metadata": {},
   "outputs": [
    {
     "data": {
      "image/png": "[encoded data removed]",
      "text/plain": [
       "<Figure size 1000x600 with 1 Axes>"
      ]
     },
     "metadata": {},
     "output_type": "display_data"
    }
   ],
   "source": [
    "# Extract feature names \n",
    "feature_names = X_train.columns if hasattr(X_train, 'columns') else [f'Feature {i}' for i in range(X_train.shape[1])]\n",
    "\n",
    "# Get feature importance scores from Random Forest model\n",
    "importances = best_rf_model.feature_importances_\n",
    "\n",
    "# Sort features by importance \n",
    "indices = np.argsort(importances)[::-1]\n",
    "\n",
    "# Plot feature importances\n",
    "plt.figure(figsize=(10, 6))\n",
    "plt.title(\"Feature Importances\")\n",
    "plt.bar(range(len(importances)), importances[indices])\n",
    "plt.xticks(range(len(importances)), [feature_names[i] for i in indices], rotation=90)\n",
    "plt.tight_layout()\n",
    "plt.show()"
   ]
  },
  {
   "cell_type": "code",
   "execution_count": 10,
   "id": "87d1b4a7-4a68-464b-91ff-82e197b31a8d",
   "metadata": {},
   "outputs": [
    {
     "data": {
      "image/png": "[encoded data removed]",
      "text/plain": [
       "<Figure size 700x500 with 1 Axes>"
      ]
     },
     "metadata": {},
     "output_type": "display_data"
    }
   ],
   "source": [
    "#Precision Recall Curve\n",
    "precision, recall, thresholds = precision_recall_curve(y_test, y_prob_test)\n",
    "\n",
    "ap = average_precision_score(y_test, y_prob_test)\n",
    "\n",
    "plt.figure(figsize=(7,5))\n",
    "plt.plot(recall, precision, label=f'PR curve (AP = {ap:.2f})')\n",
    "\n",
    "plt.xlabel('Recall')\n",
    "plt.ylabel('Precision')\n",
    "plt.title('Precision-Recall Curve')\n",
    "plt.legend()\n",
    "plt.grid()\n",
    "plt.show()"
   ]
  },
  {
   "cell_type": "code",
   "execution_count": 11,
   "id": "ccd6757e-0c61-4715-83aa-3bc23be1dbf8",
   "metadata": {},
   "outputs": [
    {
     "name": "stdout",
     "output_type": "stream",
     "text": [
      "Best Threshold: 0.6385070220504813\n",
      "\n",
      "Classification Report (Optimized Threshold):\n",
      "              precision    recall  f1-score   support\n",
      "\n",
      "           0       0.99      0.95      0.97      9149\n",
      "           1       0.61      0.85      0.71       850\n",
      "\n",
      "    accuracy                           0.94      9999\n",
      "   macro avg       0.80      0.90      0.84      9999\n",
      "weighted avg       0.95      0.94      0.95      9999\n",
      "\n",
      "Confusion Matrix (Optimized Threshold):\n",
      " [[8692  457]\n",
      " [ 127  723]]\n"
     ]
    }
   ],
   "source": [
    "valid_idx = np.where(recall > 0.85)\n",
    "\n",
    "precision_valid = precision[valid_idx]\n",
    "recall_valid = recall[valid_idx]\n",
    "thresholds_valid = thresholds[valid_idx[0]-1]  \n",
    "\n",
    "best_idx = np.argmax(precision_valid)\n",
    "best_precision = precision_valid[best_idx]\n",
    "best_recall = recall_valid[best_idx]\n",
    "best_threshold = thresholds_valid[best_idx]\n",
    "\n",
    "print(\"Best Threshold:\", best_threshold)\n",
    "\n",
    "y_pred_opt = (y_prob_test >= best_threshold).astype(int)\n",
    "\n",
    "\n",
    "print(\"\\nClassification Report (Optimized Threshold):\")\n",
    "print(classification_report(y_test, y_pred_opt))\n",
    "\n",
    "cm_opt = confusion_matrix(y_test, y_pred_opt)\n",
    "print(\"Confusion Matrix (Optimized Threshold):\\n\", cm_opt)"
   ]
  },
  {
   "cell_type": "code",
   "execution_count": 12,
   "id": "3ef27f1c-d323-4238-ab1f-141e3f69b882",
   "metadata": {},
   "outputs": [
    {
     "name": "stdout",
     "output_type": "stream",
     "text": [
      "Best Threshold: 0.5384900376820924\n",
      "\n",
      "Classification Report (Optimized Threshold):\n",
      "              precision    recall  f1-score   support\n",
      "\n",
      "           0       0.99      0.92      0.95      9149\n",
      "           1       0.50      0.90      0.64       850\n",
      "\n",
      "    accuracy                           0.92      9999\n",
      "   macro avg       0.75      0.91      0.80      9999\n",
      "weighted avg       0.95      0.92      0.93      9999\n",
      "\n",
      "Confusion Matrix (Optimized Threshold):\n",
      " [[8388  761]\n",
      " [  84  766]]\n"
     ]
    }
   ],
   "source": [
    "valid_idx = np.where(recall > 0.90)\n",
    "\n",
    "precision_valid = precision[valid_idx]\n",
    "recall_valid = recall[valid_idx]\n",
    "thresholds_valid = thresholds[valid_idx[0]-1]  \n",
    "\n",
    "best_idx = np.argmax(precision_valid)\n",
    "best_precision = precision_valid[best_idx]\n",
    "best_recall = recall_valid[best_idx]\n",
    "best_threshold = thresholds_valid[best_idx]\n",
    "\n",
    "print(\"Best Threshold:\", best_threshold)\n",
    "\n",
    "y_pred_opt = (y_prob_test >= best_threshold).astype(int)\n",
    "\n",
    "\n",
    "print(\"\\nClassification Report (Optimized Threshold):\")\n",
    "print(classification_report(y_test, y_pred_opt))\n",
    "\n",
    "cm_opt = confusion_matrix(y_test, y_pred_opt)\n",
    "print(\"Confusion Matrix (Optimized Threshold):\\n\", cm_opt)"
   ]
  }
 ],
 "metadata": {
  "kernelspec": {
   "display_name": "Python 3 (ipykernel)",
   "language": "python",
   "name": "python3"
  },
  "language_info": {
   "codemirror_mode": {
    "name": "ipython",
    "version": 3
   },
   "file_extension": ".py",
   "mimetype": "text/x-python",
   "name": "python",
   "nbconvert_exporter": "python",
   "pygments_lexer": "ipython3",
   "version": "3.9.23"
  }
 },
 "nbformat": 4,
 "nbformat_minor": 5
}
