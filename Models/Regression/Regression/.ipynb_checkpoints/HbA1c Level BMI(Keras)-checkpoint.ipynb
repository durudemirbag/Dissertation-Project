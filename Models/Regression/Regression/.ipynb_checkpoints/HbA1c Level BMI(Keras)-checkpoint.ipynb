{
 "cells": [
  {
   "cell_type": "markdown",
   "id": "b6a8342a-2f73-44cb-8c56-6e1bae2a566a",
   "metadata": {},
   "source": [
    "# REGRESSION FOR HBA1C_LEVEL AND AGE WITH KERAS NORMALIZATION"
   ]
  },
  {
   "cell_type": "code",
   "execution_count": 1,
   "id": "cadfe6cf-f4f0-4c08-b178-0250e9c175fb",
   "metadata": {},
   "outputs": [],
   "source": [
    "# Import required libraries for regression, preprocessing, and evaluation\n",
    "import pandas as pd\n",
    "import numpy as np\n",
    "from keras.optimizers import Adam\n",
    "import matplotlib.pyplot as plt\n",
    "from sklearn.model_selection import train_test_split\n",
    "from sklearn.preprocessing import OneHotEncoder\n",
    "from keras.models import Sequential\n",
    "from keras.layers import Dense\n",
    "from sklearn.metrics import mean_squared_error, r2_score\n",
    "from keras.callbacks import EarlyStopping\n",
    "from keras.layers import Normalization"
   ]
  },
  {
   "cell_type": "code",
   "execution_count": 2,
   "id": "8fd78a57-73c7-4756-a6a5-044625da7889",
   "metadata": {},
   "outputs": [
    {
     "data": {
      "text/html": [
       "<div>\n",
       "<style scoped>\n",
       "    .dataframe tbody tr th:only-of-type {\n",
       "        vertical-align: middle;\n",
       "    }\n",
       "\n",
       "    .dataframe tbody tr th {\n",
       "        vertical-align: top;\n",
       "    }\n",
       "\n",
       "    .dataframe thead th {\n",
       "        text-align: right;\n",
       "    }\n",
       "</style>\n",
       "<table border=\"1\" class=\"dataframe\">\n",
       "  <thead>\n",
       "    <tr style=\"text-align: right;\">\n",
       "      <th></th>\n",
       "      <th>hypertension</th>\n",
       "      <th>heart_disease</th>\n",
       "      <th>diabetes</th>\n",
       "      <th>problematic</th>\n",
       "      <th>gender</th>\n",
       "      <th>smoking_history</th>\n",
       "      <th>age</th>\n",
       "      <th>bmi</th>\n",
       "      <th>HbA1c_level</th>\n",
       "      <th>blood_glucose_level</th>\n",
       "    </tr>\n",
       "  </thead>\n",
       "  <tbody>\n",
       "    <tr>\n",
       "      <th>0</th>\n",
       "      <td>0</td>\n",
       "      <td>1</td>\n",
       "      <td>0</td>\n",
       "      <td>0</td>\n",
       "      <td>0</td>\n",
       "      <td>0</td>\n",
       "      <td>80.0</td>\n",
       "      <td>25.19</td>\n",
       "      <td>6.6</td>\n",
       "      <td>140</td>\n",
       "    </tr>\n",
       "    <tr>\n",
       "      <th>1</th>\n",
       "      <td>0</td>\n",
       "      <td>0</td>\n",
       "      <td>0</td>\n",
       "      <td>0</td>\n",
       "      <td>0</td>\n",
       "      <td>1</td>\n",
       "      <td>54.0</td>\n",
       "      <td>27.32</td>\n",
       "      <td>6.6</td>\n",
       "      <td>80</td>\n",
       "    </tr>\n",
       "    <tr>\n",
       "      <th>2</th>\n",
       "      <td>0</td>\n",
       "      <td>0</td>\n",
       "      <td>0</td>\n",
       "      <td>0</td>\n",
       "      <td>1</td>\n",
       "      <td>0</td>\n",
       "      <td>28.0</td>\n",
       "      <td>27.32</td>\n",
       "      <td>5.7</td>\n",
       "      <td>158</td>\n",
       "    </tr>\n",
       "    <tr>\n",
       "      <th>3</th>\n",
       "      <td>0</td>\n",
       "      <td>0</td>\n",
       "      <td>0</td>\n",
       "      <td>0</td>\n",
       "      <td>0</td>\n",
       "      <td>2</td>\n",
       "      <td>36.0</td>\n",
       "      <td>23.45</td>\n",
       "      <td>5.0</td>\n",
       "      <td>155</td>\n",
       "    </tr>\n",
       "    <tr>\n",
       "      <th>4</th>\n",
       "      <td>1</td>\n",
       "      <td>1</td>\n",
       "      <td>0</td>\n",
       "      <td>0</td>\n",
       "      <td>1</td>\n",
       "      <td>2</td>\n",
       "      <td>76.0</td>\n",
       "      <td>20.14</td>\n",
       "      <td>4.8</td>\n",
       "      <td>155</td>\n",
       "    </tr>\n",
       "  </tbody>\n",
       "</table>\n",
       "</div>"
      ],
      "text/plain": [
       "   hypertension  heart_disease  diabetes  problematic  gender  \\\n",
       "0             0              1         0            0       0   \n",
       "1             0              0         0            0       0   \n",
       "2             0              0         0            0       1   \n",
       "3             0              0         0            0       0   \n",
       "4             1              1         0            0       1   \n",
       "\n",
       "   smoking_history   age    bmi  HbA1c_level  blood_glucose_level  \n",
       "0                0  80.0  25.19          6.6                  140  \n",
       "1                1  54.0  27.32          6.6                   80  \n",
       "2                0  28.0  27.32          5.7                  158  \n",
       "3                2  36.0  23.45          5.0                  155  \n",
       "4                2  76.0  20.14          4.8                  155  "
      ]
     },
     "execution_count": 2,
     "metadata": {},
     "output_type": "execute_result"
    }
   ],
   "source": [
    "model_df = pd.read_csv(\"not_scaling.csv\")\n",
    "model_df.head()"
   ]
  },
  {
   "cell_type": "code",
   "execution_count": 3,
   "id": "330ec8f9-c7b6-4bea-ba90-7607d33420f2",
   "metadata": {},
   "outputs": [],
   "source": [
    "# Define target column and separate continuous and categorical features\n",
    "target_cols     = ['age', 'bmi']\n",
    "continuous_cols = ['HbA1c_level', 'blood_glucose_level']\n",
    "categorical_cols     = ['hypertension', 'heart_disease', 'diabetes', 'gender', 'problematic','smoking_history']"
   ]
  },
  {
   "cell_type": "code",
   "execution_count": 4,
   "id": "73021c33-4ca3-4048-8fdf-b70e542dfd50",
   "metadata": {},
   "outputs": [],
   "source": [
    "X = model_df[continuous_cols +  categorical_cols]\n",
    "y = model_df[target_cols]"
   ]
  },
  {
   "cell_type": "code",
   "execution_count": 5,
   "id": "75b03d06-e00f-4479-8357-744783261511",
   "metadata": {},
   "outputs": [],
   "source": [
    "# Split dataset into train and test sets (90% training, 10% testing)\n",
    "X_train, X_test, y_train, y_test = train_test_split(\n",
    "    X, y, test_size=0.10, random_state=42, stratify=None \n",
    ")"
   ]
  },
  {
   "cell_type": "code",
   "execution_count": 6,
   "id": "139a58e2-8848-41d6-bf69-74a2724dc76c",
   "metadata": {},
   "outputs": [],
   "source": [
    "# Since Keras Normalization will be applied, explicit scaling is not performed. \n",
    "# Binary and categorical variables are one-hot encoded and will be normalized by Kerass\n",
    "X_train_num = X_train[continuous_cols]\n",
    "X_test_num = X_test[continuous_cols]\n",
    "\n",
    "ohe = OneHotEncoder(sparse_output=False)\n",
    "X_train_cat = ohe.fit_transform(X_train[categorical_cols])\n",
    "X_test_cat  = ohe.transform(X_test[categorical_cols])\n",
    "\n",
    "cat_cols = ohe.get_feature_names_out(categorical_cols)\n",
    "X_train_cat_df = pd.DataFrame(X_train_cat, index=X_train.index, columns=cat_cols)\n",
    "X_test_cat_df  = pd.DataFrame(X_test_cat,  index=X_test.index,  columns=cat_cols)\n",
    "\n",
    "\n",
    "X_train_final_df = pd.concat([X_train_num, X_train_cat_df], axis=1)\n",
    "X_test_final_df  = pd.concat([X_test_num,  X_test_cat_df],  axis=1)\n",
    "\n",
    "X_train_final = X_train_final_df.values\n",
    "X_test_final  = X_test_final_df.values"
   ]
  },
  {
   "cell_type": "code",
   "execution_count": null,
   "id": "d93b4808-501f-4c6a-9c90-5c2b48f7ce9d",
   "metadata": {},
   "outputs": [
    {
     "name": "stderr",
     "output_type": "stream",
     "text": [
      "2025-08-25 22:12:45.790980: I metal_plugin/src/device/metal_device.cc:1154] Metal device set to: Apple M2\n",
      "2025-08-25 22:12:45.791012: I metal_plugin/src/device/metal_device.cc:296] systemMemory: 8.00 GB\n",
      "2025-08-25 22:12:45.791040: I metal_plugin/src/device/metal_device.cc:313] maxCacheSize: 2.67 GB\n",
      "2025-08-25 22:12:45.791057: I tensorflow/core/common_runtime/pluggable_device/pluggable_device_factory.cc:305] Could not identify NUMA node of platform GPU ID 0, defaulting to 0. Your kernel may not have been built with NUMA support.\n",
      "2025-08-25 22:12:45.791066: I tensorflow/core/common_runtime/pluggable_device/pluggable_device_factory.cc:271] Created TensorFlow device (/job:localhost/replica:0/task:0/device:GPU:0 with 0 MB memory) -> physical PluggableDevice (device: 0, name: METAL, pci bus id: <undefined>)\n"
     ]
    },
    {
     "data": {
      "text/html": [
       "<pre style=\"white-space:pre;overflow-x:auto;line-height:normal;font-family:Menlo,'DejaVu Sans Mono',consolas,'Courier New',monospace\"><span style=\"font-weight: bold\">Model: \"sequential\"</span>\n",
       "</pre>\n"
      ],
      "text/plain": [
       "\u001b[1mModel: \"sequential\"\u001b[0m\n"
      ]
     },
     "metadata": {},
     "output_type": "display_data"
    },
    {
     "data": {
      "text/html": [
       "<pre style=\"white-space:pre;overflow-x:auto;line-height:normal;font-family:Menlo,'DejaVu Sans Mono',consolas,'Courier New',monospace\">┏━━━━━━━━━━━━━━━━━━━━━━━━━━━━━━━━━┳━━━━━━━━━━━━━━━━━━━━━━━━┳━━━━━━━━━━━━━━━┓\n",
       "┃<span style=\"font-weight: bold\"> Layer (type)                    </span>┃<span style=\"font-weight: bold\"> Output Shape           </span>┃<span style=\"font-weight: bold\">       Param # </span>┃\n",
       "┡━━━━━━━━━━━━━━━━━━━━━━━━━━━━━━━━━╇━━━━━━━━━━━━━━━━━━━━━━━━╇━━━━━━━━━━━━━━━┩\n",
       "│ normalization (<span style=\"color: #0087ff; text-decoration-color: #0087ff\">Normalization</span>)   │ (<span style=\"color: #00af00; text-decoration-color: #00af00\">89983</span>, <span style=\"color: #00af00; text-decoration-color: #00af00\">15</span>)            │            <span style=\"color: #00af00; text-decoration-color: #00af00\">31</span> │\n",
       "├─────────────────────────────────┼────────────────────────┼───────────────┤\n",
       "│ dense (<span style=\"color: #0087ff; text-decoration-color: #0087ff\">Dense</span>)                   │ ?                      │   <span style=\"color: #00af00; text-decoration-color: #00af00\">0</span> (unbuilt) │\n",
       "├─────────────────────────────────┼────────────────────────┼───────────────┤\n",
       "│ dense_1 (<span style=\"color: #0087ff; text-decoration-color: #0087ff\">Dense</span>)                 │ ?                      │   <span style=\"color: #00af00; text-decoration-color: #00af00\">0</span> (unbuilt) │\n",
       "├─────────────────────────────────┼────────────────────────┼───────────────┤\n",
       "│ dense_2 (<span style=\"color: #0087ff; text-decoration-color: #0087ff\">Dense</span>)                 │ ?                      │   <span style=\"color: #00af00; text-decoration-color: #00af00\">0</span> (unbuilt) │\n",
       "├─────────────────────────────────┼────────────────────────┼───────────────┤\n",
       "│ dense_3 (<span style=\"color: #0087ff; text-decoration-color: #0087ff\">Dense</span>)                 │ ?                      │   <span style=\"color: #00af00; text-decoration-color: #00af00\">0</span> (unbuilt) │\n",
       "└─────────────────────────────────┴────────────────────────┴───────────────┘\n",
       "</pre>\n"
      ],
      "text/plain": [
       "┏━━━━━━━━━━━━━━━━━━━━━━━━━━━━━━━━━┳━━━━━━━━━━━━━━━━━━━━━━━━┳━━━━━━━━━━━━━━━┓\n",
       "┃\u001b[1m \u001b[0m\u001b[1mLayer (type)                   \u001b[0m\u001b[1m \u001b[0m┃\u001b[1m \u001b[0m\u001b[1mOutput Shape          \u001b[0m\u001b[1m \u001b[0m┃\u001b[1m \u001b[0m\u001b[1m      Param #\u001b[0m\u001b[1m \u001b[0m┃\n",
       "┡━━━━━━━━━━━━━━━━━━━━━━━━━━━━━━━━━╇━━━━━━━━━━━━━━━━━━━━━━━━╇━━━━━━━━━━━━━━━┩\n",
       "│ normalization (\u001b[38;5;33mNormalization\u001b[0m)   │ (\u001b[38;5;34m89983\u001b[0m, \u001b[38;5;34m15\u001b[0m)            │            \u001b[38;5;34m31\u001b[0m │\n",
       "├─────────────────────────────────┼────────────────────────┼───────────────┤\n",
       "│ dense (\u001b[38;5;33mDense\u001b[0m)                   │ ?                      │   \u001b[38;5;34m0\u001b[0m (unbuilt) │\n",
       "├─────────────────────────────────┼────────────────────────┼───────────────┤\n",
       "│ dense_1 (\u001b[38;5;33mDense\u001b[0m)                 │ ?                      │   \u001b[38;5;34m0\u001b[0m (unbuilt) │\n",
       "├─────────────────────────────────┼────────────────────────┼───────────────┤\n",
       "│ dense_2 (\u001b[38;5;33mDense\u001b[0m)                 │ ?                      │   \u001b[38;5;34m0\u001b[0m (unbuilt) │\n",
       "├─────────────────────────────────┼────────────────────────┼───────────────┤\n",
       "│ dense_3 (\u001b[38;5;33mDense\u001b[0m)                 │ ?                      │   \u001b[38;5;34m0\u001b[0m (unbuilt) │\n",
       "└─────────────────────────────────┴────────────────────────┴───────────────┘\n"
      ]
     },
     "metadata": {},
     "output_type": "display_data"
    },
    {
     "data": {
      "text/html": [
       "<pre style=\"white-space:pre;overflow-x:auto;line-height:normal;font-family:Menlo,'DejaVu Sans Mono',consolas,'Courier New',monospace\"><span style=\"font-weight: bold\"> Total params: </span><span style=\"color: #00af00; text-decoration-color: #00af00\">31</span> (128.00 B)\n",
       "</pre>\n"
      ],
      "text/plain": [
       "\u001b[1m Total params: \u001b[0m\u001b[38;5;34m31\u001b[0m (128.00 B)\n"
      ]
     },
     "metadata": {},
     "output_type": "display_data"
    },
    {
     "data": {
      "text/html": [
       "<pre style=\"white-space:pre;overflow-x:auto;line-height:normal;font-family:Menlo,'DejaVu Sans Mono',consolas,'Courier New',monospace\"><span style=\"font-weight: bold\"> Trainable params: </span><span style=\"color: #00af00; text-decoration-color: #00af00\">0</span> (0.00 B)\n",
       "</pre>\n"
      ],
      "text/plain": [
       "\u001b[1m Trainable params: \u001b[0m\u001b[38;5;34m0\u001b[0m (0.00 B)\n"
      ]
     },
     "metadata": {},
     "output_type": "display_data"
    },
    {
     "data": {
      "text/html": [
       "<pre style=\"white-space:pre;overflow-x:auto;line-height:normal;font-family:Menlo,'DejaVu Sans Mono',consolas,'Courier New',monospace\"><span style=\"font-weight: bold\"> Non-trainable params: </span><span style=\"color: #00af00; text-decoration-color: #00af00\">31</span> (128.00 B)\n",
       "</pre>\n"
      ],
      "text/plain": [
       "\u001b[1m Non-trainable params: \u001b[0m\u001b[38;5;34m31\u001b[0m (128.00 B)\n"
      ]
     },
     "metadata": {},
     "output_type": "display_data"
    },
    {
     "name": "stdout",
     "output_type": "stream",
     "text": [
      "Epoch 1/200\n"
     ]
    },
    {
     "name": "stderr",
     "output_type": "stream",
     "text": [
      "2025-08-25 22:12:46.198818: I tensorflow/core/grappler/optimizers/custom_graph_optimizer_registry.cc:117] Plugin optimizer for device_type GPU is enabled.\n"
     ]
    },
    {
     "name": "stdout",
     "output_type": "stream",
     "text": [
      "\u001b[1m563/563\u001b[0m \u001b[32m━━━━━━━━━━━━━━━━━━━━\u001b[0m\u001b[37m\u001b[0m \u001b[1m5s\u001b[0m 8ms/step - loss: 675.9997 - mae: 19.7741 - val_loss: 299.6034 - val_mae: 11.8544\n",
      "Epoch 2/200\n",
      "\u001b[1m563/563\u001b[0m \u001b[32m━━━━━━━━━━━━━━━━━━━━\u001b[0m\u001b[37m\u001b[0m \u001b[1m5s\u001b[0m 8ms/step - loss: 291.5034 - mae: 11.7169 - val_loss: 279.4991 - val_mae: 11.4644\n",
      "Epoch 3/200\n",
      "\u001b[1m563/563\u001b[0m \u001b[32m━━━━━━━━━━━━━━━━━━━━\u001b[0m\u001b[37m\u001b[0m \u001b[1m4s\u001b[0m 8ms/step - loss: 276.9410 - mae: 11.4350 - val_loss: 273.5914 - val_mae: 11.3537\n",
      "Epoch 4/200\n",
      "\u001b[1m563/563\u001b[0m \u001b[32m━━━━━━━━━━━━━━━━━━━━\u001b[0m\u001b[37m\u001b[0m \u001b[1m4s\u001b[0m 8ms/step - loss: 276.4049 - mae: 11.4298 - val_loss: 271.2958 - val_mae: 11.3051\n",
      "Epoch 5/200\n",
      "\u001b[1m563/563\u001b[0m \u001b[32m━━━━━━━━━━━━━━━━━━━━\u001b[0m\u001b[37m\u001b[0m \u001b[1m5s\u001b[0m 8ms/step - loss: 272.6246 - mae: 11.3708 - val_loss: 264.2686 - val_mae: 11.2453\n",
      "Epoch 6/200\n",
      "\u001b[1m563/563\u001b[0m \u001b[32m━━━━━━━━━━━━━━━━━━━━\u001b[0m\u001b[37m\u001b[0m \u001b[1m4s\u001b[0m 8ms/step - loss: 262.7769 - mae: 11.2724 - val_loss: 254.9402 - val_mae: 11.1454\n",
      "Epoch 7/200\n",
      "\u001b[1m563/563\u001b[0m \u001b[32m━━━━━━━━━━━━━━━━━━━━\u001b[0m\u001b[37m\u001b[0m \u001b[1m4s\u001b[0m 8ms/step - loss: 253.3297 - mae: 11.1395 - val_loss: 246.3770 - val_mae: 11.0655\n",
      "Epoch 8/200\n",
      "\u001b[1m563/563\u001b[0m \u001b[32m━━━━━━━━━━━━━━━━━━━━\u001b[0m\u001b[37m\u001b[0m \u001b[1m4s\u001b[0m 8ms/step - loss: 247.2389 - mae: 11.0977 - val_loss: 238.5857 - val_mae: 10.9590\n",
      "Epoch 9/200\n",
      "\u001b[1m563/563\u001b[0m \u001b[32m━━━━━━━━━━━━━━━━━━━━\u001b[0m\u001b[37m\u001b[0m \u001b[1m4s\u001b[0m 8ms/step - loss: 241.0578 - mae: 11.0030 - val_loss: 233.1497 - val_mae: 10.8628\n",
      "Epoch 10/200\n",
      "\u001b[1m563/563\u001b[0m \u001b[32m━━━━━━━━━━━━━━━━━━━━\u001b[0m\u001b[37m\u001b[0m \u001b[1m4s\u001b[0m 8ms/step - loss: 234.7214 - mae: 10.8815 - val_loss: 228.7122 - val_mae: 10.7555\n",
      "Epoch 11/200\n",
      "\u001b[1m563/563\u001b[0m \u001b[32m━━━━━━━━━━━━━━━━━━━━\u001b[0m\u001b[37m\u001b[0m \u001b[1m4s\u001b[0m 8ms/step - loss: 228.7691 - mae: 10.7691 - val_loss: 225.4438 - val_mae: 10.7000\n",
      "Epoch 12/200\n",
      "\u001b[1m563/563\u001b[0m \u001b[32m━━━━━━━━━━━━━━━━━━━━\u001b[0m\u001b[37m\u001b[0m \u001b[1m4s\u001b[0m 8ms/step - loss: 228.3011 - mae: 10.7640 - val_loss: 223.1525 - val_mae: 10.6271\n",
      "Epoch 13/200\n",
      "\u001b[1m563/563\u001b[0m \u001b[32m━━━━━━━━━━━━━━━━━━━━\u001b[0m\u001b[37m\u001b[0m \u001b[1m4s\u001b[0m 8ms/step - loss: 227.6270 - mae: 10.7436 - val_loss: 221.7005 - val_mae: 10.6204\n",
      "Epoch 14/200\n",
      "\u001b[1m563/563\u001b[0m \u001b[32m━━━━━━━━━━━━━━━━━━━━\u001b[0m\u001b[37m\u001b[0m \u001b[1m4s\u001b[0m 8ms/step - loss: 224.1878 - mae: 10.6746 - val_loss: 220.7081 - val_mae: 10.5771\n",
      "Epoch 15/200\n",
      "\u001b[1m563/563\u001b[0m \u001b[32m━━━━━━━━━━━━━━━━━━━━\u001b[0m\u001b[37m\u001b[0m \u001b[1m4s\u001b[0m 8ms/step - loss: 221.2308 - mae: 10.5960 - val_loss: 219.8504 - val_mae: 10.5783\n",
      "Epoch 16/200\n",
      "\u001b[1m563/563\u001b[0m \u001b[32m━━━━━━━━━━━━━━━━━━━━\u001b[0m\u001b[37m\u001b[0m \u001b[1m4s\u001b[0m 8ms/step - loss: 222.5126 - mae: 10.6247 - val_loss: 219.2897 - val_mae: 10.5476\n",
      "Epoch 17/200\n",
      "\u001b[1m563/563\u001b[0m \u001b[32m━━━━━━━━━━━━━━━━━━━━\u001b[0m\u001b[37m\u001b[0m \u001b[1m4s\u001b[0m 8ms/step - loss: 219.9575 - mae: 10.5544 - val_loss: 218.8282 - val_mae: 10.5377\n",
      "Epoch 18/200\n",
      "\u001b[1m563/563\u001b[0m \u001b[32m━━━━━━━━━━━━━━━━━━━━\u001b[0m\u001b[37m\u001b[0m \u001b[1m4s\u001b[0m 8ms/step - loss: 222.0786 - mae: 10.6012 - val_loss: 218.4128 - val_mae: 10.5443\n",
      "Epoch 19/200\n",
      "\u001b[1m563/563\u001b[0m \u001b[32m━━━━━━━━━━━━━━━━━━━━\u001b[0m\u001b[37m\u001b[0m \u001b[1m4s\u001b[0m 8ms/step - loss: 222.6739 - mae: 10.6316 - val_loss: 218.6564 - val_mae: 10.5380\n",
      "Epoch 20/200\n",
      "\u001b[1m 80/563\u001b[0m \u001b[32m━━\u001b[0m\u001b[37m━━━━━━━━━━━━━━━━━━\u001b[0m \u001b[1m3s\u001b[0m 7ms/step - loss: 220.7448 - mae: 10.5999"
     ]
    }
   ],
   "source": [
    "# Normalization layer is used to standardize input features instead of manual scaling.\n",
    "normalizer = Normalization()\n",
    "normalizer.adapt(X_train_final)\n",
    "\n",
    "# Build and train a neural network regression model with Keras Sequential\n",
    "model = Sequential([\n",
    "    normalizer,  \n",
    "    Dense(256, activation='tanh'),\n",
    "    Dense(256, activation='tanh'),\n",
    "    Dense(128, activation='tanh'), \n",
    "    Dense(2)  \n",
    "])\n",
    "\n",
    "\n",
    "model.compile(optimizer=\"Adam\", loss='mse', metrics=['mae'])\n",
    "model.summary()\n",
    "\n",
    "early_stopping = EarlyStopping(\n",
    "    monitor='val_loss', \n",
    "    patience=15,\n",
    "    verbose=1\n",
    ")\n",
    "\n",
    "history = model.fit(\n",
    "    X_train_final, \n",
    "    y_train,\n",
    "    epochs=200,  \n",
    "    batch_size=128,\n",
    "    verbose=1,\n",
    "    validation_split=0.2,\n",
    "    callbacks=early_stopping\n",
    ")"
   ]
  },
  {
   "cell_type": "code",
   "execution_count": null,
   "id": "19a3f386-3e18-48fc-ae25-eaba6dc26511",
   "metadata": {},
   "outputs": [],
   "source": [
    "y_pred = model.predict(X_test_final)\n",
    "y_test_array = y_test.values\n",
    "\n",
    "# Visualization: Ground truth vs Predictions, Residuals, and Distribution Comparison\n",
    "for i, name in enumerate(target_cols):\n",
    "    r2 = r2_score(y_test_array[:, i], y_pred[:, i])\n",
    "    mse = mean_squared_error(y_test_array[:, i], y_pred[:, i])\n",
    "    rmse = np.sqrt(mse)\n",
    "    \n",
    "    plt.figure(figsize=(15, 5))\n",
    "\n",
    "    # 1. Ground Truth \n",
    "    plt.subplot(1, 3, 1)\n",
    "    plt.scatter(y_test_array[:, i], y_pred[:, i], alpha=0.6, s=20)\n",
    "    plt.plot([y_test_array[:, i].min(), y_test_array[:, i].max()], \n",
    "             [y_test_array[:, i].min(), y_test_array[:, i].max()], 'r--', lw=2)\n",
    "    plt.xlabel(f'True {name}')\n",
    "    plt.ylabel(f'Predicted {name}')\n",
    "    plt.title(f'Ground Truth vs Predictions\\nR^2 Score = {r2:.3f},  RMSE= {rmse:.3f}')\n",
    "    plt.grid(True, alpha=0.3)\n",
    "\n",
    "    # 2. Residuals Plot\n",
    "    plt.subplot(1, 3, 2)\n",
    "    residuals = y_test_array[:, i] - y_pred[:, i]  \n",
    "    plt.scatter(y_pred[:, i], residuals, alpha=0.6, s=20)  \n",
    "    plt.axhline(y=0, color='r', linestyle='--')\n",
    "    plt.xlabel(f'Predicted {name}')\n",
    "    plt.ylabel('Residuals')\n",
    "    plt.title('Residuals Plot')\n",
    "    plt.grid(True, alpha=0.3)\n",
    "\n",
    "    # 3. Distribution Comparison\n",
    "    plt.subplot(1, 3, 3)\n",
    "    plt.hist(y_test_array[:, i], bins=30, alpha=0.7, label='True', density=True)\n",
    "    plt.hist(y_pred[:, i], bins=30, alpha=0.7, label='Predicted', density=True)\n",
    "    plt.xlabel(f'{name}')\n",
    "    plt.ylabel('Density')\n",
    "    plt.title('Distribution Comparison')\n",
    "    plt.legend()\n",
    "    plt.grid(True, alpha=0.3)\n",
    "        \n",
    "    plt.tight_layout()\n",
    "    plt.show()"
   ]
  }
 ],
 "metadata": {
  "kernelspec": {
   "display_name": "Python 3 (ipykernel)",
   "language": "python",
   "name": "python3"
  },
  "language_info": {
   "codemirror_mode": {
    "name": "ipython",
    "version": 3
   },
   "file_extension": ".py",
   "mimetype": "text/x-python",
   "name": "python",
   "nbconvert_exporter": "python",
   "pygments_lexer": "ipython3",
   "version": "3.9.23"
  }
 },
 "nbformat": 4,
 "nbformat_minor": 5
}
